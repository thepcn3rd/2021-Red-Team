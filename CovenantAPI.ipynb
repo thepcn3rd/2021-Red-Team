{
 "cells": [
  {
   "cell_type": "markdown",
   "metadata": {},
   "source": [
    "   # Interaction with Covenant API"
   ]
  },
  {
   "cell_type": "markdown",
   "metadata": {},
   "source": [
    "### Global Options and Gather a Covenant Token for the use of the API"
   ]
  },
  {
   "cell_type": "code",
   "execution_count": null,
   "metadata": {},
   "outputs": [],
   "source": [
    "import requests\n",
    "import json\n",
    "\n",
    "# Remove the InsecureRequestWarning from requests\n",
    "from urllib3.exceptions import InsecureRequestWarning\n",
    "requests.packages.urllib3.disable_warnings(category=InsecureRequestWarning)\n",
    "\n",
    "covenantURL = \"https://127.0.0.1:7443\"\n",
    "\n",
    "# Pull the covenant token with the following creds created in\n",
    "# your instance of Covenant...\n",
    "username=\"api\"\n",
    "password=\"someamazingpasswordthatisinplaintextongithub\"\n",
    "covenantLogin = covenantURL + \"/api/users/login\"\n",
    "cHeaders = {\"accept\": \"text/plain\", \"Content-Type\":\"application/json\"}\n",
    "cData = {\"id\": \"string\", \"userName\": username, \"password\": password}\n",
    "\n",
    "#response = requests.post(\"https://127.0.0.1:7443/api/users/login\", headers={'accept': 'text/plain', 'Content-Type':'application/json'}, data=json.dumps({'id': 'string', 'username': 'api', 'password': 'qw34t5ry6RT45yrhfnghty675ythrgf654yrTT'}), verify=False)\n",
    "resp = requests.post(covenantLogin, headers=cHeaders, data=json.dumps(cData), verify=False)\n",
    "info = json.loads(resp.content) # Gather the content of the response\n",
    "cToken = info['covenantToken']\n",
    "print(info['covenantToken']) # Pull the covenantToken\n",
    "\n"
   ]
  },
  {
   "cell_type": "markdown",
   "metadata": {},
   "source": [
    "### Uses the Covenant Token to Gather Active Grunts"
   ]
  },
  {
   "cell_type": "code",
   "execution_count": null,
   "metadata": {},
   "outputs": [],
   "source": [
    "covenantGruntInfo = covenantURL + \"/api/grunts\"\n",
    "cHeaders = {\"Authorization\": \"Bearer \" + cToken}\n",
    "resp = requests.get(covenantGruntInfo, headers=cHeaders, verify=False)\n",
    "info = json.loads(resp.content)\n",
    "for i in info:\n",
    "    gruntID = i['id']\n",
    "    gruntName = i['name']\n",
    "    activationTime = i['activationTime']\n",
    "    lastCheckIn = i['lastCheckIn']\n",
    "    info = \"ID: \" + str(gruntID)\n",
    "    info += \" Grunt Name: \" + gruntName\n",
    "    #info += \" Activation Time: \" + activationTime\n",
    "    info += \"\\tLast Check In: \" + lastCheckIn\n",
    "    print(info)"
   ]
  },
  {
   "cell_type": "markdown",
   "metadata": {},
   "source": [
    "### Set Grunt to Interact with then Execute Command"
   ]
  },
  {
   "cell_type": "code",
   "execution_count": null,
   "metadata": {},
   "outputs": [],
   "source": [
    "# Select the Grunt ID from above that you want to interact with...\n",
    "activeGruntID = \"3\"\n",
    "covenantInteract = covenantURL + \"/api/grunts/\" + activeGruntID + \"/interact\"\n",
    "command = \"Powershell Get-Service\"\n",
    "\n",
    "cHeaders = {\"Authorization\": \"Bearer \" + cToken, \"accept\": \"application/json\", \"Content-Type\":\"application/json\"}\n",
    "cData = command\n",
    "resp = requests.post(covenantInteract, headers=cHeaders, data=json.dumps(cData), verify=False)\n",
    "info = json.loads(resp.content) # Gather the content of the response\n",
    "taskID = info['id']\n",
    "taskCommand = info['command']\n",
    "print(\"-- Command Sent -- TaskID:\" + str(taskID) + \" ** Command: \" + taskCommand)"
   ]
  },
  {
   "cell_type": "markdown",
   "metadata": {},
   "source": [
    "### Gather Results of Executed Command"
   ]
  },
  {
   "cell_type": "code",
   "execution_count": null,
   "metadata": {},
   "outputs": [],
   "source": [
    "# Can be used to see if the command completed...\n",
    "#covenantGruntInfo = covenantURL + \"/api/taskings/26\"\n",
    "# Same as above just referenced based on the name\n",
    "#covenantGruntInfo = covenantURL + \"/api/grunts/taskings/1f33b2070f\"\n",
    "\n",
    "# Task ID is taken from the above... If the command has completed...\n",
    "covenantGruntInfo = covenantURL + \"/api/commandoutputs/\" + str(taskID)\n",
    "cHeaders = {\"Authorization\": \"Bearer \" + cToken}\n",
    "resp = requests.get(covenantGruntInfo, headers=cHeaders, verify=False)\n",
    "info = json.loads(resp.content)\n",
    "print(info['output'])"
   ]
  },
  {
   "cell_type": "code",
   "execution_count": null,
   "metadata": {},
   "outputs": [],
   "source": []
  }
 ],
 "metadata": {
  "kernelspec": {
   "display_name": "Python 3",
   "language": "python",
   "name": "python3"
  },
  "language_info": {
   "codemirror_mode": {
    "name": "ipython",
    "version": 3
   },
   "file_extension": ".py",
   "mimetype": "text/x-python",
   "name": "python",
   "nbconvert_exporter": "python",
   "pygments_lexer": "ipython3",
   "version": "3.8.5"
  }
 },
 "nbformat": 4,
 "nbformat_minor": 5
}
